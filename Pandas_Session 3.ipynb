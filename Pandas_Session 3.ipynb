{
 "cells": [
  {
   "cell_type": "code",
   "execution_count": 4,
   "metadata": {},
   "outputs": [],
   "source": [
    "import numpy as np\n",
    "import pandas as pd"
   ]
  },
  {
   "cell_type": "code",
   "execution_count": 2,
   "metadata": {},
   "outputs": [
    {
     "data": {
      "text/html": [
       "<div>\n",
       "<style scoped>\n",
       "    .dataframe tbody tr th:only-of-type {\n",
       "        vertical-align: middle;\n",
       "    }\n",
       "\n",
       "    .dataframe tbody tr th {\n",
       "        vertical-align: top;\n",
       "    }\n",
       "\n",
       "    .dataframe thead th {\n",
       "        text-align: right;\n",
       "    }\n",
       "</style>\n",
       "<table border=\"1\" class=\"dataframe\">\n",
       "  <thead>\n",
       "    <tr style=\"text-align: right;\">\n",
       "      <th></th>\n",
       "      <th>0</th>\n",
       "      <th>1</th>\n",
       "      <th>2</th>\n",
       "    </tr>\n",
       "  </thead>\n",
       "  <tbody>\n",
       "    <tr>\n",
       "      <th>0</th>\n",
       "      <td>1</td>\n",
       "      <td>4</td>\n",
       "      <td>2</td>\n",
       "    </tr>\n",
       "    <tr>\n",
       "      <th>1</th>\n",
       "      <td>2</td>\n",
       "      <td>3</td>\n",
       "      <td>5</td>\n",
       "    </tr>\n",
       "    <tr>\n",
       "      <th>2</th>\n",
       "      <td>7</td>\n",
       "      <td>4</td>\n",
       "      <td>5</td>\n",
       "    </tr>\n",
       "  </tbody>\n",
       "</table>\n",
       "</div>"
      ],
      "text/plain": [
       "   0  1  2\n",
       "0  1  4  2\n",
       "1  2  3  5\n",
       "2  7  4  5"
      ]
     },
     "execution_count": 2,
     "metadata": {},
     "output_type": "execute_result"
    }
   ],
   "source": [
    "data = pd.DataFrame([[1,4,2], [2,3,5], [7,4,5]])\n",
    "data"
   ]
  },
  {
   "cell_type": "code",
   "execution_count": 3,
   "metadata": {},
   "outputs": [
    {
     "name": "stdout",
     "output_type": "stream",
     "text": [
      "0    10\n",
      "1    11\n",
      "2    12\n",
      "dtype: int64\n"
     ]
    }
   ],
   "source": [
    "print(data.sum()) #sum by default is adding the rows"
   ]
  },
  {
   "cell_type": "code",
   "execution_count": 4,
   "metadata": {},
   "outputs": [
    {
     "name": "stdout",
     "output_type": "stream",
     "text": [
      "0     7\n",
      "1    10\n",
      "2    16\n",
      "dtype: int64\n"
     ]
    }
   ],
   "source": [
    "print(data.sum(axis=1)) #axis=1 ,adding the column elements"
   ]
  },
  {
   "cell_type": "code",
   "execution_count": 7,
   "metadata": {},
   "outputs": [
    {
     "data": {
      "text/plain": [
       "0     7\n",
       "1    10\n",
       "2    16\n",
       "dtype: int64"
      ]
     },
     "execution_count": 7,
     "metadata": {},
     "output_type": "execute_result"
    }
   ],
   "source": [
    "data.sum(axis=1) #axis=1 ,adding the column elements"
   ]
  },
  {
   "cell_type": "code",
   "execution_count": 8,
   "metadata": {},
   "outputs": [
    {
     "name": "stdout",
     "output_type": "stream",
     "text": [
      "0    7\n",
      "1    4\n",
      "2    5\n",
      "dtype: int64\n"
     ]
    }
   ],
   "source": [
    "print(data.max(axis=0)) # print maximum of eaxh column is finding maximum across rows"
   ]
  },
  {
   "cell_type": "code",
   "execution_count": 9,
   "metadata": {},
   "outputs": [
    {
     "name": "stdout",
     "output_type": "stream",
     "text": [
      "0    4\n",
      "1    5\n",
      "2    7\n",
      "dtype: int64\n"
     ]
    }
   ],
   "source": [
    "print(data.max(axis=1)) # print maximum of eaxh row is finding maximum across columns"
   ]
  },
  {
   "cell_type": "code",
   "execution_count": 10,
   "metadata": {},
   "outputs": [
    {
     "name": "stdout",
     "output_type": "stream",
     "text": [
      "   A  B  C\n",
      "a  1  4  2\n",
      "b  2  3  5\n",
      "c  7  4  5\n"
     ]
    }
   ],
   "source": [
    "new_df=pd.DataFrame(data.values,columns= [\"A\", \"B\", \"C\"], index= [\"a\", \"b\", \"c\"])\n",
    "print(new_df)"
   ]
  },
  {
   "cell_type": "code",
   "execution_count": 11,
   "metadata": {},
   "outputs": [
    {
     "name": "stdout",
     "output_type": "stream",
     "text": [
      "A    10\n",
      "B    11\n",
      "C    12\n",
      "dtype: int64\n"
     ]
    }
   ],
   "source": [
    "print(new_df.sum()) # sumby default is adding the rows"
   ]
  },
  {
   "cell_type": "code",
   "execution_count": 12,
   "metadata": {},
   "outputs": [
    {
     "name": "stdout",
     "output_type": "stream",
     "text": [
      "a     7\n",
      "b    10\n",
      "c    16\n",
      "dtype: int64\n"
     ]
    }
   ],
   "source": [
    "print(new_df.sum(axis=1)) # axis=1,adding the column elements"
   ]
  },
  {
   "cell_type": "code",
   "execution_count": 13,
   "metadata": {},
   "outputs": [
    {
     "name": "stdout",
     "output_type": "stream",
     "text": [
      "A    7\n",
      "B    4\n",
      "C    5\n",
      "dtype: int64\n",
      "a    4\n",
      "b    5\n",
      "c    7\n",
      "dtype: int64\n"
     ]
    }
   ],
   "source": [
    "print(new_df.max(axis=0)) # prints maximum of each column i.e. finding maximum across each rows\n",
    "print(new_df.max(axis=1)) # prints maximum of each row i.e. finding maximum across each column"
   ]
  },
  {
   "cell_type": "code",
   "execution_count": 8,
   "metadata": {},
   "outputs": [
    {
     "data": {
      "text/html": [
       "<div>\n",
       "<style scoped>\n",
       "    .dataframe tbody tr th:only-of-type {\n",
       "        vertical-align: middle;\n",
       "    }\n",
       "\n",
       "    .dataframe tbody tr th {\n",
       "        vertical-align: top;\n",
       "    }\n",
       "\n",
       "    .dataframe thead th {\n",
       "        text-align: right;\n",
       "    }\n",
       "</style>\n",
       "<table border=\"1\" class=\"dataframe\">\n",
       "  <thead>\n",
       "    <tr style=\"text-align: right;\">\n",
       "      <th></th>\n",
       "      <th>0</th>\n",
       "      <th>1</th>\n",
       "      <th>2</th>\n",
       "    </tr>\n",
       "  </thead>\n",
       "  <tbody>\n",
       "    <tr>\n",
       "      <th>0</th>\n",
       "      <td>1</td>\n",
       "      <td>4</td>\n",
       "      <td>2</td>\n",
       "    </tr>\n",
       "    <tr>\n",
       "      <th>1</th>\n",
       "      <td>2</td>\n",
       "      <td>3</td>\n",
       "      <td>5</td>\n",
       "    </tr>\n",
       "    <tr>\n",
       "      <th>2</th>\n",
       "      <td>7</td>\n",
       "      <td>4</td>\n",
       "      <td>5</td>\n",
       "    </tr>\n",
       "  </tbody>\n",
       "</table>\n",
       "</div>"
      ],
      "text/plain": [
       "   0  1  2\n",
       "0  1  4  2\n",
       "1  2  3  5\n",
       "2  7  4  5"
      ]
     },
     "execution_count": 8,
     "metadata": {},
     "output_type": "execute_result"
    }
   ],
   "source": [
    "data = pd.DataFrame([[1,4,2], [2,3,5], [7,4,5]])\n",
    "data"
   ]
  },
  {
   "cell_type": "code",
   "execution_count": 9,
   "metadata": {},
   "outputs": [
    {
     "name": "stdout",
     "output_type": "stream",
     "text": [
      "   0  1  2\n",
      "0  1  4  2\n",
      "1  2  3  5\n",
      "2  7  4  5\n",
      "   A  B  C\n",
      "a  1  4  2\n",
      "b  2  3  5\n",
      "c  7  4  5\n"
     ]
    }
   ],
   "source": [
    "print(data)\n",
    "new_df=pd.DataFrame(data.values,columns= [\"A\", \"B\", \"C\"], index= [\"a\", \"b\", \"c\"])\n",
    "print(new_df)"
   ]
  },
  {
   "cell_type": "code",
   "execution_count": 10,
   "metadata": {},
   "outputs": [
    {
     "name": "stdout",
     "output_type": "stream",
     "text": [
      "   A  B  C\n",
      "a  1  4  2\n",
      "b  2  3  5\n",
      "c  7  4  5\n"
     ]
    }
   ],
   "source": [
    "new_df=pd.DataFrame(data.values,columns= [\"A\", \"B\", \"C\"], index= [\"a\", \"b\", \"c\"])\n",
    "print(new_df)"
   ]
  },
  {
   "cell_type": "code",
   "execution_count": 15,
   "metadata": {},
   "outputs": [
    {
     "name": "stdout",
     "output_type": "stream",
     "text": [
      "   A  B  C\n",
      "a  1  4  2\n",
      "b  2  3  5\n",
      "c  7  4  5\n",
      "\n",
      "    A  B  C\n",
      "b  2  3  5\n",
      "a  1  4  2\n",
      "c  7  4  5\n"
     ]
    }
   ],
   "source": [
    "print(new_df)\n",
    "print(\"\\n\", new_df.sort_values(by = \"B\", axis=0)) #sort a column"
   ]
  },
  {
   "cell_type": "code",
   "execution_count": 14,
   "metadata": {},
   "outputs": [
    {
     "name": "stdout",
     "output_type": "stream",
     "text": [
      "A    7\n",
      "B    4\n",
      "C    5\n",
      "dtype: int64\n",
      "a    4\n",
      "b    5\n",
      "c    7\n",
      "dtype: int64\n"
     ]
    }
   ],
   "source": [
    "print(new_df.max(axis=0)) # prints maximum of each column i.e. finding maximum across each rows\n",
    "print(new_df.max(axis=1)) # prints maximum of each row i.e. finding maximum across each column"
   ]
  },
  {
   "cell_type": "code",
   "execution_count": 15,
   "metadata": {},
   "outputs": [
    {
     "name": "stdout",
     "output_type": "stream",
     "text": [
      "   A  B  C\n",
      "a  1  4  2\n",
      "b  2  3  5\n",
      "c  7  4  5\n"
     ]
    },
    {
     "ename": "KeyError",
     "evalue": "'C'",
     "output_type": "error",
     "traceback": [
      "\u001b[1;31m---------------------------------------------------------------------------\u001b[0m",
      "\u001b[1;31mKeyError\u001b[0m                                  Traceback (most recent call last)",
      "\u001b[1;32m<ipython-input-15-3b012f508437>\u001b[0m in \u001b[0;36m<module>\u001b[1;34m\u001b[0m\n\u001b[0;32m      1\u001b[0m \u001b[0mprint\u001b[0m\u001b[1;33m(\u001b[0m\u001b[0mnew_df\u001b[0m\u001b[1;33m)\u001b[0m\u001b[1;33m\u001b[0m\u001b[1;33m\u001b[0m\u001b[0m\n\u001b[1;32m----> 2\u001b[1;33m \u001b[0mprint\u001b[0m\u001b[1;33m(\u001b[0m\u001b[1;34m\"\\n\"\u001b[0m\u001b[1;33m,\u001b[0m \u001b[0mnew_df\u001b[0m\u001b[1;33m.\u001b[0m\u001b[0msort_values\u001b[0m\u001b[1;33m(\u001b[0m\u001b[0mby\u001b[0m \u001b[1;33m=\u001b[0m \u001b[1;34m\"C\"\u001b[0m\u001b[1;33m,\u001b[0m \u001b[0maxis\u001b[0m\u001b[1;33m=\u001b[0m\u001b[1;36m1\u001b[0m\u001b[1;33m)\u001b[0m\u001b[1;33m)\u001b[0m \u001b[1;31m#sort a row\u001b[0m\u001b[1;33m\u001b[0m\u001b[1;33m\u001b[0m\u001b[0m\n\u001b[0m",
      "\u001b[1;32m~\\anaconda4\\lib\\site-packages\\pandas\\core\\frame.py\u001b[0m in \u001b[0;36msort_values\u001b[1;34m(self, by, axis, ascending, inplace, kind, na_position, ignore_index)\u001b[0m\n\u001b[0;32m   4925\u001b[0m \u001b[1;33m\u001b[0m\u001b[0m\n\u001b[0;32m   4926\u001b[0m             \u001b[0mby\u001b[0m \u001b[1;33m=\u001b[0m \u001b[0mby\u001b[0m\u001b[1;33m[\u001b[0m\u001b[1;36m0\u001b[0m\u001b[1;33m]\u001b[0m\u001b[1;33m\u001b[0m\u001b[1;33m\u001b[0m\u001b[0m\n\u001b[1;32m-> 4927\u001b[1;33m             \u001b[0mk\u001b[0m \u001b[1;33m=\u001b[0m \u001b[0mself\u001b[0m\u001b[1;33m.\u001b[0m\u001b[0m_get_label_or_level_values\u001b[0m\u001b[1;33m(\u001b[0m\u001b[0mby\u001b[0m\u001b[1;33m,\u001b[0m \u001b[0maxis\u001b[0m\u001b[1;33m=\u001b[0m\u001b[0maxis\u001b[0m\u001b[1;33m)\u001b[0m\u001b[1;33m\u001b[0m\u001b[1;33m\u001b[0m\u001b[0m\n\u001b[0m\u001b[0;32m   4928\u001b[0m \u001b[1;33m\u001b[0m\u001b[0m\n\u001b[0;32m   4929\u001b[0m             \u001b[1;32mif\u001b[0m \u001b[0misinstance\u001b[0m\u001b[1;33m(\u001b[0m\u001b[0mascending\u001b[0m\u001b[1;33m,\u001b[0m \u001b[1;33m(\u001b[0m\u001b[0mtuple\u001b[0m\u001b[1;33m,\u001b[0m \u001b[0mlist\u001b[0m\u001b[1;33m)\u001b[0m\u001b[1;33m)\u001b[0m\u001b[1;33m:\u001b[0m\u001b[1;33m\u001b[0m\u001b[1;33m\u001b[0m\u001b[0m\n",
      "\u001b[1;32m~\\anaconda4\\lib\\site-packages\\pandas\\core\\generic.py\u001b[0m in \u001b[0;36m_get_label_or_level_values\u001b[1;34m(self, key, axis)\u001b[0m\n\u001b[0;32m   1690\u001b[0m             \u001b[0mvalues\u001b[0m \u001b[1;33m=\u001b[0m \u001b[0mself\u001b[0m\u001b[1;33m.\u001b[0m\u001b[0maxes\u001b[0m\u001b[1;33m[\u001b[0m\u001b[0maxis\u001b[0m\u001b[1;33m]\u001b[0m\u001b[1;33m.\u001b[0m\u001b[0mget_level_values\u001b[0m\u001b[1;33m(\u001b[0m\u001b[0mkey\u001b[0m\u001b[1;33m)\u001b[0m\u001b[1;33m.\u001b[0m\u001b[0m_values\u001b[0m\u001b[1;33m\u001b[0m\u001b[1;33m\u001b[0m\u001b[0m\n\u001b[0;32m   1691\u001b[0m         \u001b[1;32melse\u001b[0m\u001b[1;33m:\u001b[0m\u001b[1;33m\u001b[0m\u001b[1;33m\u001b[0m\u001b[0m\n\u001b[1;32m-> 1692\u001b[1;33m             \u001b[1;32mraise\u001b[0m \u001b[0mKeyError\u001b[0m\u001b[1;33m(\u001b[0m\u001b[0mkey\u001b[0m\u001b[1;33m)\u001b[0m\u001b[1;33m\u001b[0m\u001b[1;33m\u001b[0m\u001b[0m\n\u001b[0m\u001b[0;32m   1693\u001b[0m \u001b[1;33m\u001b[0m\u001b[0m\n\u001b[0;32m   1694\u001b[0m         \u001b[1;31m# Check for duplicates\u001b[0m\u001b[1;33m\u001b[0m\u001b[1;33m\u001b[0m\u001b[1;33m\u001b[0m\u001b[0m\n",
      "\u001b[1;31mKeyError\u001b[0m: 'C'"
     ]
    }
   ],
   "source": [
    "print(new_df)\n",
    "print(\"\\n\", new_df.sort_values(by = \"C\", axis=1)) #sort a row"
   ]
  },
  {
   "cell_type": "code",
   "execution_count": 11,
   "metadata": {},
   "outputs": [
    {
     "name": "stdout",
     "output_type": "stream",
     "text": [
      "   A  B  C\n",
      "a  1  4  2\n",
      "b  2  3  5\n",
      "c  7  4  5\n",
      "\n",
      "    A  B  C\n",
      "a  1  4  2\n",
      "b  2  3  5\n",
      "c  7  4  5\n"
     ]
    }
   ],
   "source": [
    "print(new_df)\n",
    "print(\"\\n\", new_df.sort_values(by = \"C\", axis=0)) #sort a row"
   ]
  },
  {
   "cell_type": "code",
   "execution_count": 13,
   "metadata": {},
   "outputs": [
    {
     "name": "stdout",
     "output_type": "stream",
     "text": [
      "   A  B  C\n",
      "a  1  4  2\n",
      "b  2  3  5\n",
      "c  7  4  5\n"
     ]
    },
    {
     "ename": "KeyError",
     "evalue": "'C'",
     "output_type": "error",
     "traceback": [
      "\u001b[1;31m---------------------------------------------------------------------------\u001b[0m",
      "\u001b[1;31mKeyError\u001b[0m                                  Traceback (most recent call last)",
      "\u001b[1;32m<ipython-input-13-46e90f4b17b6>\u001b[0m in \u001b[0;36m<module>\u001b[1;34m\u001b[0m\n\u001b[0;32m      1\u001b[0m \u001b[0mprint\u001b[0m\u001b[1;33m(\u001b[0m\u001b[0mnew_df\u001b[0m\u001b[1;33m)\u001b[0m\u001b[1;33m\u001b[0m\u001b[1;33m\u001b[0m\u001b[0m\n\u001b[0;32m      2\u001b[0m \u001b[1;31m#print(\"\\n\", new_df.sort_values(by = \"B\", axis=0)) #sort a row\u001b[0m\u001b[1;33m\u001b[0m\u001b[1;33m\u001b[0m\u001b[1;33m\u001b[0m\u001b[0m\n\u001b[1;32m----> 3\u001b[1;33m \u001b[0mprint\u001b[0m\u001b[1;33m(\u001b[0m\u001b[1;34m\"\\n\"\u001b[0m\u001b[1;33m,\u001b[0m \u001b[0mnew_df\u001b[0m\u001b[1;33m.\u001b[0m\u001b[0msort_values\u001b[0m\u001b[1;33m(\u001b[0m\u001b[0mby\u001b[0m \u001b[1;33m=\u001b[0m \u001b[1;34m\"C\"\u001b[0m\u001b[1;33m,\u001b[0m \u001b[0maxis\u001b[0m\u001b[1;33m=\u001b[0m\u001b[1;36m1\u001b[0m\u001b[1;33m)\u001b[0m\u001b[1;33m)\u001b[0m \u001b[1;31m#sort a row\u001b[0m\u001b[1;33m\u001b[0m\u001b[1;33m\u001b[0m\u001b[0m\n\u001b[0m",
      "\u001b[1;32m~\\anaconda4\\lib\\site-packages\\pandas\\core\\frame.py\u001b[0m in \u001b[0;36msort_values\u001b[1;34m(self, by, axis, ascending, inplace, kind, na_position, ignore_index)\u001b[0m\n\u001b[0;32m   4925\u001b[0m \u001b[1;33m\u001b[0m\u001b[0m\n\u001b[0;32m   4926\u001b[0m             \u001b[0mby\u001b[0m \u001b[1;33m=\u001b[0m \u001b[0mby\u001b[0m\u001b[1;33m[\u001b[0m\u001b[1;36m0\u001b[0m\u001b[1;33m]\u001b[0m\u001b[1;33m\u001b[0m\u001b[1;33m\u001b[0m\u001b[0m\n\u001b[1;32m-> 4927\u001b[1;33m             \u001b[0mk\u001b[0m \u001b[1;33m=\u001b[0m \u001b[0mself\u001b[0m\u001b[1;33m.\u001b[0m\u001b[0m_get_label_or_level_values\u001b[0m\u001b[1;33m(\u001b[0m\u001b[0mby\u001b[0m\u001b[1;33m,\u001b[0m \u001b[0maxis\u001b[0m\u001b[1;33m=\u001b[0m\u001b[0maxis\u001b[0m\u001b[1;33m)\u001b[0m\u001b[1;33m\u001b[0m\u001b[1;33m\u001b[0m\u001b[0m\n\u001b[0m\u001b[0;32m   4928\u001b[0m \u001b[1;33m\u001b[0m\u001b[0m\n\u001b[0;32m   4929\u001b[0m             \u001b[1;32mif\u001b[0m \u001b[0misinstance\u001b[0m\u001b[1;33m(\u001b[0m\u001b[0mascending\u001b[0m\u001b[1;33m,\u001b[0m \u001b[1;33m(\u001b[0m\u001b[0mtuple\u001b[0m\u001b[1;33m,\u001b[0m \u001b[0mlist\u001b[0m\u001b[1;33m)\u001b[0m\u001b[1;33m)\u001b[0m\u001b[1;33m:\u001b[0m\u001b[1;33m\u001b[0m\u001b[1;33m\u001b[0m\u001b[0m\n",
      "\u001b[1;32m~\\anaconda4\\lib\\site-packages\\pandas\\core\\generic.py\u001b[0m in \u001b[0;36m_get_label_or_level_values\u001b[1;34m(self, key, axis)\u001b[0m\n\u001b[0;32m   1690\u001b[0m             \u001b[0mvalues\u001b[0m \u001b[1;33m=\u001b[0m \u001b[0mself\u001b[0m\u001b[1;33m.\u001b[0m\u001b[0maxes\u001b[0m\u001b[1;33m[\u001b[0m\u001b[0maxis\u001b[0m\u001b[1;33m]\u001b[0m\u001b[1;33m.\u001b[0m\u001b[0mget_level_values\u001b[0m\u001b[1;33m(\u001b[0m\u001b[0mkey\u001b[0m\u001b[1;33m)\u001b[0m\u001b[1;33m.\u001b[0m\u001b[0m_values\u001b[0m\u001b[1;33m\u001b[0m\u001b[1;33m\u001b[0m\u001b[0m\n\u001b[0;32m   1691\u001b[0m         \u001b[1;32melse\u001b[0m\u001b[1;33m:\u001b[0m\u001b[1;33m\u001b[0m\u001b[1;33m\u001b[0m\u001b[0m\n\u001b[1;32m-> 1692\u001b[1;33m             \u001b[1;32mraise\u001b[0m \u001b[0mKeyError\u001b[0m\u001b[1;33m(\u001b[0m\u001b[0mkey\u001b[0m\u001b[1;33m)\u001b[0m\u001b[1;33m\u001b[0m\u001b[1;33m\u001b[0m\u001b[0m\n\u001b[0m\u001b[0;32m   1693\u001b[0m \u001b[1;33m\u001b[0m\u001b[0m\n\u001b[0;32m   1694\u001b[0m         \u001b[1;31m# Check for duplicates\u001b[0m\u001b[1;33m\u001b[0m\u001b[1;33m\u001b[0m\u001b[1;33m\u001b[0m\u001b[0m\n",
      "\u001b[1;31mKeyError\u001b[0m: 'C'"
     ]
    }
   ],
   "source": [
    "print(new_df)\n",
    "#print(\"\\n\", new_df.sort_values(by = \"B\", axis=0)) #sort a row\n",
    "print(\"\\n\", new_df.sort_values(by = \"C\", axis=1)) #sort a row"
   ]
  },
  {
   "cell_type": "code",
   "execution_count": 17,
   "metadata": {},
   "outputs": [
    {
     "name": "stdout",
     "output_type": "stream",
     "text": [
      "   A  B  C\n",
      "a  1  4  2\n",
      "b  2  3  5\n",
      "c  7  4  5\n",
      "   A  B  C\n",
      "c  7  4  5\n",
      "   A  C\n",
      "a  1  2\n",
      "b  2  5\n",
      "c  7  5\n"
     ]
    }
   ],
   "source": [
    "# drop\n",
    "print(new_df)\n",
    "print(new_df.drop(['a', 'b'],axis=0)) #axis=0,row deletion using row label\n",
    "print(new_df.drop(['B'],axis=1)) #axis=1,column deletion\n",
    "# print(new_df)"
   ]
  },
  {
   "cell_type": "code",
   "execution_count": 18,
   "metadata": {},
   "outputs": [
    {
     "data": {
      "text/html": [
       "<div>\n",
       "<style scoped>\n",
       "    .dataframe tbody tr th:only-of-type {\n",
       "        vertical-align: middle;\n",
       "    }\n",
       "\n",
       "    .dataframe tbody tr th {\n",
       "        vertical-align: top;\n",
       "    }\n",
       "\n",
       "    .dataframe thead th {\n",
       "        text-align: right;\n",
       "    }\n",
       "</style>\n",
       "<table border=\"1\" class=\"dataframe\">\n",
       "  <thead>\n",
       "    <tr style=\"text-align: right;\">\n",
       "      <th></th>\n",
       "      <th>Animals</th>\n",
       "      <th>Age</th>\n",
       "      <th>Visits</th>\n",
       "      <th>Priority</th>\n",
       "    </tr>\n",
       "  </thead>\n",
       "  <tbody>\n",
       "    <tr>\n",
       "      <th>a</th>\n",
       "      <td>cat</td>\n",
       "      <td>2.5</td>\n",
       "      <td>1</td>\n",
       "      <td>y</td>\n",
       "    </tr>\n",
       "    <tr>\n",
       "      <th>b</th>\n",
       "      <td>cat</td>\n",
       "      <td>3.0</td>\n",
       "      <td>3</td>\n",
       "      <td>y</td>\n",
       "    </tr>\n",
       "    <tr>\n",
       "      <th>c</th>\n",
       "      <td>turtle</td>\n",
       "      <td>0.5</td>\n",
       "      <td>2</td>\n",
       "      <td>n</td>\n",
       "    </tr>\n",
       "    <tr>\n",
       "      <th>d</th>\n",
       "      <td>dog</td>\n",
       "      <td>NaN</td>\n",
       "      <td>3</td>\n",
       "      <td>y</td>\n",
       "    </tr>\n",
       "    <tr>\n",
       "      <th>e</th>\n",
       "      <td>dog</td>\n",
       "      <td>5.0</td>\n",
       "      <td>2</td>\n",
       "      <td>n</td>\n",
       "    </tr>\n",
       "    <tr>\n",
       "      <th>f</th>\n",
       "      <td>cat</td>\n",
       "      <td>2.0</td>\n",
       "      <td>3</td>\n",
       "      <td>n</td>\n",
       "    </tr>\n",
       "    <tr>\n",
       "      <th>g</th>\n",
       "      <td>turtle</td>\n",
       "      <td>4.5</td>\n",
       "      <td>1</td>\n",
       "      <td>n</td>\n",
       "    </tr>\n",
       "    <tr>\n",
       "      <th>h</th>\n",
       "      <td>cat</td>\n",
       "      <td>NaN</td>\n",
       "      <td>1</td>\n",
       "      <td>y</td>\n",
       "    </tr>\n",
       "    <tr>\n",
       "      <th>i</th>\n",
       "      <td>dog</td>\n",
       "      <td>7.0</td>\n",
       "      <td>2</td>\n",
       "      <td>n</td>\n",
       "    </tr>\n",
       "    <tr>\n",
       "      <th>j</th>\n",
       "      <td>dog</td>\n",
       "      <td>3.0</td>\n",
       "      <td>1</td>\n",
       "      <td>n</td>\n",
       "    </tr>\n",
       "  </tbody>\n",
       "</table>\n",
       "</div>"
      ],
      "text/plain": [
       "  Animals  Age  Visits Priority\n",
       "a     cat  2.5       1        y\n",
       "b     cat  3.0       3        y\n",
       "c  turtle  0.5       2        n\n",
       "d     dog  NaN       3        y\n",
       "e     dog  5.0       2        n\n",
       "f     cat  2.0       3        n\n",
       "g  turtle  4.5       1        n\n",
       "h     cat  NaN       1        y\n",
       "i     dog  7.0       2        n\n",
       "j     dog  3.0       1        n"
      ]
     },
     "execution_count": 18,
     "metadata": {},
     "output_type": "execute_result"
    }
   ],
   "source": [
    "## Visualizing a DataFrames\n",
    "#First Create a DataFrame\n",
    "data={'Animals': ['cat','cat','turtle','dog','dog','cat','turtle','cat','dog','dog'],\n",
    "          'Age': [2.5,3,0.5,np.nan,5,2,4.5,np.nan,7,3], \n",
    "      'Visits' : [1,3,2,3,2,3,1,1,2,1], \n",
    "    'Priority' : ['y','y','n','y','n','n','n','y','n','n']}\n",
    "labels=['a','b','c','d','e','f','g','h','i','j']\n",
    "animals_data=pd.DataFrame(data,index=labels)\n",
    "animals_data\n",
    "#observe the data type of each column"
   ]
  },
  {
   "cell_type": "code",
   "execution_count": 19,
   "metadata": {},
   "outputs": [
    {
     "name": "stdout",
     "output_type": "stream",
     "text": [
      "Mean of the Dataframe is: \n",
      " Age       3.4375\n",
      "Visits    1.9000\n",
      "dtype: float64\n"
     ]
    }
   ],
   "source": [
    "print(\"Mean of the Dataframe is: \\n\",animals_data.mean()) #mean of values in columns containg numeric data"
   ]
  },
  {
   "cell_type": "code",
   "execution_count": 24,
   "metadata": {},
   "outputs": [
    {
     "name": "stdout",
     "output_type": "stream",
     "text": [
      "\n",
      " Mean of 'Age' is:  Age    3.4375\n",
      "dtype: float64\n"
     ]
    }
   ],
   "source": [
    "print(\"\\n Mean of 'Age' is: \",animals_data[['Age']].mean())"
   ]
  },
  {
   "cell_type": "code",
   "execution_count": 25,
   "metadata": {},
   "outputs": [
    {
     "name": "stdout",
     "output_type": "stream",
     "text": [
      "\n",
      " Total visits : Visits    19\n",
      "dtype: int64\n"
     ]
    }
   ],
   "source": [
    "print(\"\\n Total visits :\",animals_data[['Visits']].sum())"
   ]
  },
  {
   "cell_type": "code",
   "execution_count": 22,
   "metadata": {},
   "outputs": [
    {
     "name": "stdout",
     "output_type": "stream",
     "text": [
      "\n",
      " Sum of visits : Visits    19\n",
      "dtype: int64\n"
     ]
    }
   ],
   "source": [
    "print(\"\\n Sum of visits :\",animals_data[['Visits']].sum())"
   ]
  },
  {
   "cell_type": "code",
   "execution_count": 23,
   "metadata": {},
   "outputs": [
    {
     "name": "stdout",
     "output_type": "stream",
     "text": [
      "\n",
      "Max visits:  Visits    3\n",
      "dtype: int64\n"
     ]
    }
   ],
   "source": [
    "print(\"\\n Max visits: \",animals_data[['Visits']].max())"
   ]
  },
  {
   "cell_type": "code",
   "execution_count": 26,
   "metadata": {},
   "outputs": [
    {
     "name": "stdout",
     "output_type": "stream",
     "text": [
      "\n",
      " Index of Max visits:  Visits    b\n",
      "dtype: object\n"
     ]
    }
   ],
   "source": [
    "print(\"\\n Index of Max visits: \",animals_data[['Visits']].idxmax()) # for what index is maximum"
   ]
  },
  {
   "cell_type": "code",
   "execution_count": 27,
   "metadata": {},
   "outputs": [
    {
     "name": "stdout",
     "output_type": "stream",
     "text": [
      "\n",
      " Index of Min visits:  Visits    a\n",
      "dtype: object\n"
     ]
    }
   ],
   "source": [
    "print(\"\\n Index of Min visits: \",animals_data[['Visits']].idxmin())"
   ]
  },
  {
   "cell_type": "code",
   "execution_count": 28,
   "metadata": {},
   "outputs": [
    {
     "name": "stdout",
     "output_type": "stream",
     "text": [
      "\n",
      "Sum: \n",
      " Animals     catcatturtledogdogcatturtlecatdogdog\n",
      "Age                                         27.5\n",
      "Visits                                        19\n",
      "Priority                              yynynnnynn\n",
      "dtype: object\n"
     ]
    }
   ],
   "source": [
    "print(\"\\nSum: \\n\",animals_data.sum()) #for strings sum is string concatenation"
   ]
  },
  {
   "cell_type": "code",
   "execution_count": 29,
   "metadata": {},
   "outputs": [
    {
     "name": "stdout",
     "output_type": "stream",
     "text": [
      "\n",
      " Index of Min visits:  Visits    a\n",
      "dtype: object\n"
     ]
    }
   ],
   "source": [
    "print(\"\\n Index of Min visits: \",animals_data[['Visits']].idxmin())"
   ]
  },
  {
   "cell_type": "code",
   "execution_count": 30,
   "metadata": {},
   "outputs": [
    {
     "name": "stdout",
     "output_type": "stream",
     "text": [
      "<class 'pandas.core.frame.DataFrame'>\n",
      "Index: 10 entries, a to j\n",
      "Data columns (total 4 columns):\n",
      " #   Column    Non-Null Count  Dtype  \n",
      "---  ------    --------------  -----  \n",
      " 0   Animals   10 non-null     object \n",
      " 1   Age       8 non-null      float64\n",
      " 2   Visits    10 non-null     int64  \n",
      " 3   Priority  10 non-null     object \n",
      "dtypes: float64(1), int64(1), object(2)\n",
      "memory usage: 400.0+ bytes\n",
      "None\n",
      "  Animals  Age  Visits Priority\n",
      "a     cat  2.5       1        y\n",
      "b     cat  3.0       3        y\n",
      "c  turtle  0.5       2        n\n",
      "d     dog  NaN       3        y\n",
      "e     dog  5.0       2        n\n",
      "f     cat  2.0       3        n\n",
      "g  turtle  4.5       1        n\n",
      "h     cat  NaN       1        y\n",
      "i     dog  7.0       2        n\n",
      "j     dog  3.0       1        n\n"
     ]
    }
   ],
   "source": [
    "# Handling Missing Values\n",
    "print(animals_data.info())\n",
    "print(animals_data)"
   ]
  },
  {
   "cell_type": "code",
   "execution_count": 32,
   "metadata": {},
   "outputs": [
    {
     "name": "stdout",
     "output_type": "stream",
     "text": [
      "<class 'pandas.core.frame.DataFrame'>\n",
      "Index: 10 entries, a to j\n",
      "Data columns (total 4 columns):\n",
      " #   Column    Non-Null Count  Dtype  \n",
      "---  ------    --------------  -----  \n",
      " 0   Animals   10 non-null     object \n",
      " 1   Age       8 non-null      float64\n",
      " 2   Visits    10 non-null     int64  \n",
      " 3   Priority  10 non-null     object \n",
      "dtypes: float64(1), int64(1), object(2)\n",
      "memory usage: 400.0+ bytes\n",
      "None\n"
     ]
    },
    {
     "data": {
      "text/html": [
       "<div>\n",
       "<style scoped>\n",
       "    .dataframe tbody tr th:only-of-type {\n",
       "        vertical-align: middle;\n",
       "    }\n",
       "\n",
       "    .dataframe tbody tr th {\n",
       "        vertical-align: top;\n",
       "    }\n",
       "\n",
       "    .dataframe thead th {\n",
       "        text-align: right;\n",
       "    }\n",
       "</style>\n",
       "<table border=\"1\" class=\"dataframe\">\n",
       "  <thead>\n",
       "    <tr style=\"text-align: right;\">\n",
       "      <th></th>\n",
       "      <th>Animals</th>\n",
       "      <th>Age</th>\n",
       "      <th>Visits</th>\n",
       "      <th>Priority</th>\n",
       "    </tr>\n",
       "  </thead>\n",
       "  <tbody>\n",
       "    <tr>\n",
       "      <th>a</th>\n",
       "      <td>cat</td>\n",
       "      <td>2.5</td>\n",
       "      <td>1</td>\n",
       "      <td>y</td>\n",
       "    </tr>\n",
       "    <tr>\n",
       "      <th>b</th>\n",
       "      <td>cat</td>\n",
       "      <td>3.0</td>\n",
       "      <td>3</td>\n",
       "      <td>y</td>\n",
       "    </tr>\n",
       "    <tr>\n",
       "      <th>c</th>\n",
       "      <td>turtle</td>\n",
       "      <td>0.5</td>\n",
       "      <td>2</td>\n",
       "      <td>n</td>\n",
       "    </tr>\n",
       "    <tr>\n",
       "      <th>d</th>\n",
       "      <td>dog</td>\n",
       "      <td>NaN</td>\n",
       "      <td>3</td>\n",
       "      <td>y</td>\n",
       "    </tr>\n",
       "    <tr>\n",
       "      <th>e</th>\n",
       "      <td>dog</td>\n",
       "      <td>5.0</td>\n",
       "      <td>2</td>\n",
       "      <td>n</td>\n",
       "    </tr>\n",
       "    <tr>\n",
       "      <th>f</th>\n",
       "      <td>cat</td>\n",
       "      <td>2.0</td>\n",
       "      <td>3</td>\n",
       "      <td>n</td>\n",
       "    </tr>\n",
       "    <tr>\n",
       "      <th>g</th>\n",
       "      <td>turtle</td>\n",
       "      <td>4.5</td>\n",
       "      <td>1</td>\n",
       "      <td>n</td>\n",
       "    </tr>\n",
       "    <tr>\n",
       "      <th>h</th>\n",
       "      <td>cat</td>\n",
       "      <td>NaN</td>\n",
       "      <td>1</td>\n",
       "      <td>y</td>\n",
       "    </tr>\n",
       "    <tr>\n",
       "      <th>i</th>\n",
       "      <td>dog</td>\n",
       "      <td>7.0</td>\n",
       "      <td>2</td>\n",
       "      <td>n</td>\n",
       "    </tr>\n",
       "    <tr>\n",
       "      <th>j</th>\n",
       "      <td>dog</td>\n",
       "      <td>3.0</td>\n",
       "      <td>1</td>\n",
       "      <td>n</td>\n",
       "    </tr>\n",
       "  </tbody>\n",
       "</table>\n",
       "</div>"
      ],
      "text/plain": [
       "  Animals  Age  Visits Priority\n",
       "a     cat  2.5       1        y\n",
       "b     cat  3.0       3        y\n",
       "c  turtle  0.5       2        n\n",
       "d     dog  NaN       3        y\n",
       "e     dog  5.0       2        n\n",
       "f     cat  2.0       3        n\n",
       "g  turtle  4.5       1        n\n",
       "h     cat  NaN       1        y\n",
       "i     dog  7.0       2        n\n",
       "j     dog  3.0       1        n"
      ]
     },
     "execution_count": 32,
     "metadata": {},
     "output_type": "execute_result"
    }
   ],
   "source": [
    "# Handling Missing Values\n",
    "print(animals_data.info())\n",
    "animals_data"
   ]
  },
  {
   "cell_type": "code",
   "execution_count": 36,
   "metadata": {},
   "outputs": [
    {
     "name": "stdout",
     "output_type": "stream",
     "text": [
      "[1 None 3 4] object\n"
     ]
    },
    {
     "ename": "TypeError",
     "evalue": "unsupported operand type(s) for +: 'int' and 'NoneType'",
     "output_type": "error",
     "traceback": [
      "\u001b[1;31m---------------------------------------------------------------------------\u001b[0m",
      "\u001b[1;31mTypeError\u001b[0m                                 Traceback (most recent call last)",
      "\u001b[1;32m<ipython-input-36-f9789e24ab53>\u001b[0m in \u001b[0;36m<module>\u001b[1;34m\u001b[0m\n\u001b[0;32m      3\u001b[0m \u001b[0marr1\u001b[0m \u001b[1;33m=\u001b[0m \u001b[0mnp\u001b[0m\u001b[1;33m.\u001b[0m\u001b[0marray\u001b[0m\u001b[1;33m(\u001b[0m\u001b[1;33m[\u001b[0m\u001b[1;36m1\u001b[0m\u001b[1;33m,\u001b[0m\u001b[1;32mNone\u001b[0m\u001b[1;33m,\u001b[0m\u001b[1;36m3\u001b[0m\u001b[1;33m,\u001b[0m\u001b[1;36m4\u001b[0m\u001b[1;33m]\u001b[0m\u001b[1;33m)\u001b[0m\u001b[1;33m\u001b[0m\u001b[1;33m\u001b[0m\u001b[0m\n\u001b[0;32m      4\u001b[0m \u001b[0mprint\u001b[0m\u001b[1;33m(\u001b[0m\u001b[0marr1\u001b[0m\u001b[1;33m,\u001b[0m\u001b[0marr1\u001b[0m\u001b[1;33m.\u001b[0m\u001b[0mdtype\u001b[0m\u001b[1;33m)\u001b[0m\u001b[1;33m\u001b[0m\u001b[1;33m\u001b[0m\u001b[0m\n\u001b[1;32m----> 5\u001b[1;33m \u001b[0mprint\u001b[0m\u001b[1;33m(\u001b[0m\u001b[0marr1\u001b[0m\u001b[1;33m.\u001b[0m\u001b[0mmean\u001b[0m\u001b[1;33m(\u001b[0m\u001b[1;33m)\u001b[0m\u001b[1;33m)\u001b[0m\u001b[1;33m\u001b[0m\u001b[1;33m\u001b[0m\u001b[0m\n\u001b[0m",
      "\u001b[1;32m~\\anaconda4\\lib\\site-packages\\numpy\\core\\_methods.py\u001b[0m in \u001b[0;36m_mean\u001b[1;34m(a, axis, dtype, out, keepdims)\u001b[0m\n\u001b[0;32m    149\u001b[0m             \u001b[0mis_float16_result\u001b[0m \u001b[1;33m=\u001b[0m \u001b[1;32mTrue\u001b[0m\u001b[1;33m\u001b[0m\u001b[1;33m\u001b[0m\u001b[0m\n\u001b[0;32m    150\u001b[0m \u001b[1;33m\u001b[0m\u001b[0m\n\u001b[1;32m--> 151\u001b[1;33m     \u001b[0mret\u001b[0m \u001b[1;33m=\u001b[0m \u001b[0mumr_sum\u001b[0m\u001b[1;33m(\u001b[0m\u001b[0marr\u001b[0m\u001b[1;33m,\u001b[0m \u001b[0maxis\u001b[0m\u001b[1;33m,\u001b[0m \u001b[0mdtype\u001b[0m\u001b[1;33m,\u001b[0m \u001b[0mout\u001b[0m\u001b[1;33m,\u001b[0m \u001b[0mkeepdims\u001b[0m\u001b[1;33m)\u001b[0m\u001b[1;33m\u001b[0m\u001b[1;33m\u001b[0m\u001b[0m\n\u001b[0m\u001b[0;32m    152\u001b[0m     \u001b[1;32mif\u001b[0m \u001b[0misinstance\u001b[0m\u001b[1;33m(\u001b[0m\u001b[0mret\u001b[0m\u001b[1;33m,\u001b[0m \u001b[0mmu\u001b[0m\u001b[1;33m.\u001b[0m\u001b[0mndarray\u001b[0m\u001b[1;33m)\u001b[0m\u001b[1;33m:\u001b[0m\u001b[1;33m\u001b[0m\u001b[1;33m\u001b[0m\u001b[0m\n\u001b[0;32m    153\u001b[0m         ret = um.true_divide(\n",
      "\u001b[1;31mTypeError\u001b[0m: unsupported operand type(s) for +: 'int' and 'NoneType'"
     ]
    }
   ],
   "source": [
    "# Difference between None and np.nan\n",
    "import numpy as np\n",
    "arr1 = np.array([1,None,3,4]) \n",
    "print(arr1,arr1.dtype)\n",
    "print(arr1.mean())"
   ]
  },
  {
   "cell_type": "code",
   "execution_count": 37,
   "metadata": {},
   "outputs": [
    {
     "name": "stdout",
     "output_type": "stream",
     "text": [
      "[ 1. nan  3.  4.] float64\n",
      "nan\n",
      "nan\n"
     ]
    }
   ],
   "source": [
    "#Trouble with missing data\n",
    "#Why we need to drop missing values\n",
    "import numpy as np\n",
    "arr2 = np.array([1, np.nan, 3,4]) #np.nan is a float type\n",
    "print(arr2, arr2.dtype)\n",
    "print(arr2.sum()) #so np.nan is handled by numpy but not None\n",
    "print(arr2.mean())"
   ]
  },
  {
   "cell_type": "code",
   "execution_count": 38,
   "metadata": {},
   "outputs": [
    {
     "name": "stdout",
     "output_type": "stream",
     "text": [
      "\n",
      " 3.0\n",
      "\n",
      " 1.5\n"
     ]
    }
   ],
   "source": [
    "#print(pd.Series([1, np.nan, 2, None]))\n",
    "ser_null = pd.Series([1,np.nan,2,None])\n",
    "print('\\n',ser_null.sum())\n",
    "print('\\n', ser_null.mean())"
   ]
  },
  {
   "cell_type": "code",
   "execution_count": 40,
   "metadata": {},
   "outputs": [
    {
     "name": "stdout",
     "output_type": "stream",
     "text": [
      "     0    1  2\n",
      "0  1.0  NaN  2\n",
      "1  2.0  3.0  5\n",
      "2  NaN  4.0  6\n",
      "0     3.0\n",
      "1     7.0\n",
      "2    13.0\n",
      "dtype: float64\n",
      "0     3.0\n",
      "1    10.0\n",
      "2    10.0\n",
      "dtype: float64\n",
      "0     3.0\n",
      "1     7.0\n",
      "2    13.0\n",
      "dtype: float64\n"
     ]
    }
   ],
   "source": [
    "# Dataframe aggregation methods ignore nan values and find the sum\n",
    "data = pd.DataFrame([[1, np.nan, 2],[2, 3, 5],[np.nan, 4, 6]])\n",
    "print(data)\n",
    "print(data.sum()) #sum by default is column sum axis =0\n",
    "print(data.sum(axis=1)) #sum across columns\n",
    "print(data.sum(axis=0)) #sum across columns"
   ]
  },
  {
   "cell_type": "markdown",
   "metadata": {},
   "source": [
    "* Pandas handles np.nun by ignoring these values in the statistical calculations"
   ]
  },
  {
   "cell_type": "code",
   "execution_count": 42,
   "metadata": {},
   "outputs": [
    {
     "name": "stdout",
     "output_type": "stream",
     "text": [
      "     0    1  2\n",
      "0  1.0  NaN  2\n",
      "1  2.0  3.0  5\n",
      "2  NaN  4.0  6\n",
      "\n",
      " data.isnull(): \n",
      "        0      1      2\n",
      "0  False   True  False\n",
      "1  False  False  False\n",
      "2   True  False  False\n",
      "\n",
      " data.notnull(): \n",
      "        0      1     2\n",
      "0   True  False  True\n",
      "1   True   True  True\n",
      "2  False   True  True\n"
     ]
    }
   ],
   "source": [
    "#Detecting and dropping Null Values\n",
    "#print(pd.isnull(animals_data)) #isnull() function in pandas library\n",
    "#print(animals_data.isnull()) #isnull() in DataFrame object\n",
    "#Observe that Age has two missing values\n",
    "#print(pd.notnull(animals_data))\n",
    "print(data)\n",
    "data = pd.DataFrame([[1, np.nan, 2],[2, 3, 5], [np.nan, 4, 6]])\n",
    "print('\\n data.isnull(): \\n',data.isnull())\n",
    "print('\\n data.notnull(): \\n',data.notnull())\n",
    "#data[data.notnull()]"
   ]
  },
  {
   "cell_type": "code",
   "execution_count": 43,
   "metadata": {},
   "outputs": [
    {
     "name": "stdout",
     "output_type": "stream",
     "text": [
      "     0    1  2\n",
      "0  1.0  NaN  2\n",
      "1  2.0  3.0  5\n",
      "2  NaN  4.0  6\n",
      "\n",
      " data.isnull(): \n",
      " 0    1\n",
      "1    1\n",
      "2    0\n",
      "dtype: int64\n"
     ]
    }
   ],
   "source": [
    "#Detecting and dropping Null Values\n",
    "#print(pd.isnull(animals_data)) #isnull() function in pandas library\n",
    "#print(animals_data.isnull()) #isnull() in DataFrame object\n",
    "#Observe that Age has two missing values\n",
    "#print(pd.notnull(animals_data))\n",
    "print(data)\n",
    "data = pd.DataFrame([[1, np.nan, 2],[2, 3, 5], [np.nan, 4, 6]])\n",
    "print('\\n data.isnull(): \\n',data.isnull().sum())\n",
    "#print('\\n data.notnull(): \\n',data.notnull())\n",
    "#data[data.notnull()]"
   ]
  },
  {
   "cell_type": "code",
   "execution_count": 44,
   "metadata": {},
   "outputs": [
    {
     "name": "stdout",
     "output_type": "stream",
     "text": [
      "     0    1  2\n",
      "0  1.0  NaN  2\n",
      "1  2.0  3.0  5\n",
      "2  NaN  4.0  6\n",
      "     0    1  2\n",
      "1  2.0  3.0  5\n"
     ]
    }
   ],
   "source": [
    "# dropping null values\n",
    "print(data)\n",
    "print(data.dropna()) # drop rows and columns with null values"
   ]
  },
  {
   "cell_type": "code",
   "execution_count": 18,
   "metadata": {},
   "outputs": [
    {
     "name": "stdout",
     "output_type": "stream",
     "text": [
      "     0    1  2\n",
      "0  1.0  NaN  2\n",
      "1  2.0  NaN  5\n",
      "2  NaN  4.0  6\n"
     ]
    },
    {
     "data": {
      "text/html": [
       "<div>\n",
       "<style scoped>\n",
       "    .dataframe tbody tr th:only-of-type {\n",
       "        vertical-align: middle;\n",
       "    }\n",
       "\n",
       "    .dataframe tbody tr th {\n",
       "        vertical-align: top;\n",
       "    }\n",
       "\n",
       "    .dataframe thead th {\n",
       "        text-align: right;\n",
       "    }\n",
       "</style>\n",
       "<table border=\"1\" class=\"dataframe\">\n",
       "  <thead>\n",
       "    <tr style=\"text-align: right;\">\n",
       "      <th></th>\n",
       "      <th>0</th>\n",
       "      <th>1</th>\n",
       "      <th>2</th>\n",
       "    </tr>\n",
       "  </thead>\n",
       "  <tbody>\n",
       "    <tr>\n",
       "      <th>0</th>\n",
       "      <td>1.0</td>\n",
       "      <td>NaN</td>\n",
       "      <td>2</td>\n",
       "    </tr>\n",
       "    <tr>\n",
       "      <th>1</th>\n",
       "      <td>2.0</td>\n",
       "      <td>NaN</td>\n",
       "      <td>5</td>\n",
       "    </tr>\n",
       "    <tr>\n",
       "      <th>2</th>\n",
       "      <td>NaN</td>\n",
       "      <td>4.0</td>\n",
       "      <td>6</td>\n",
       "    </tr>\n",
       "  </tbody>\n",
       "</table>\n",
       "</div>"
      ],
      "text/plain": [
       "     0    1  2\n",
       "0  1.0  NaN  2\n",
       "1  2.0  NaN  5\n",
       "2  NaN  4.0  6"
      ]
     },
     "execution_count": 18,
     "metadata": {},
     "output_type": "execute_result"
    }
   ],
   "source": [
    "data=pd.DataFrame([[1,np.nan,2], [2,np.nan,5], [np.nan,4,6]])\n",
    "print(data)\n",
    "#data.dropna(axis='rows', thresh=1) # axis=0 means drop rows which have missing values\n",
    "data.dropna(axis='columns', thresh=1) # axis=0 means drop rows which have missing values\n",
    "#thresh = 2 means 2 Nansand beyond is dropped"
   ]
  },
  {
   "cell_type": "code",
   "execution_count": 19,
   "metadata": {},
   "outputs": [
    {
     "name": "stdout",
     "output_type": "stream",
     "text": [
      "     0    1  2\n",
      "0  1.0  NaN  2\n",
      "1  2.0  NaN  5\n",
      "2  NaN  4.0  6\n"
     ]
    },
    {
     "data": {
      "text/html": [
       "<div>\n",
       "<style scoped>\n",
       "    .dataframe tbody tr th:only-of-type {\n",
       "        vertical-align: middle;\n",
       "    }\n",
       "\n",
       "    .dataframe tbody tr th {\n",
       "        vertical-align: top;\n",
       "    }\n",
       "\n",
       "    .dataframe thead th {\n",
       "        text-align: right;\n",
       "    }\n",
       "</style>\n",
       "<table border=\"1\" class=\"dataframe\">\n",
       "  <thead>\n",
       "    <tr style=\"text-align: right;\">\n",
       "      <th></th>\n",
       "      <th>0</th>\n",
       "      <th>1</th>\n",
       "      <th>2</th>\n",
       "    </tr>\n",
       "  </thead>\n",
       "  <tbody>\n",
       "    <tr>\n",
       "      <th>0</th>\n",
       "      <td>1.0</td>\n",
       "      <td>NaN</td>\n",
       "      <td>2</td>\n",
       "    </tr>\n",
       "    <tr>\n",
       "      <th>1</th>\n",
       "      <td>2.0</td>\n",
       "      <td>NaN</td>\n",
       "      <td>5</td>\n",
       "    </tr>\n",
       "    <tr>\n",
       "      <th>2</th>\n",
       "      <td>NaN</td>\n",
       "      <td>4.0</td>\n",
       "      <td>6</td>\n",
       "    </tr>\n",
       "  </tbody>\n",
       "</table>\n",
       "</div>"
      ],
      "text/plain": [
       "     0    1  2\n",
       "0  1.0  NaN  2\n",
       "1  2.0  NaN  5\n",
       "2  NaN  4.0  6"
      ]
     },
     "execution_count": 19,
     "metadata": {},
     "output_type": "execute_result"
    }
   ],
   "source": [
    "data=pd.DataFrame([[1,np.nan,2], [2,np.nan,5], [np.nan,4,6]])\n",
    "print(data)\n",
    "data.dropna(axis='rows', thresh=1) # axis=0 means drop rows which have missing values\n",
    "#data.dropna(axis='columns', thresh=1) # axis=0 means drop rows which have missing values\n",
    "#thresh = 2 means 2 Nansand beyond is dropped"
   ]
  },
  {
   "cell_type": "code",
   "execution_count": 48,
   "metadata": {},
   "outputs": [
    {
     "data": {
      "text/html": [
       "<div>\n",
       "<style scoped>\n",
       "    .dataframe tbody tr th:only-of-type {\n",
       "        vertical-align: middle;\n",
       "    }\n",
       "\n",
       "    .dataframe tbody tr th {\n",
       "        vertical-align: top;\n",
       "    }\n",
       "\n",
       "    .dataframe thead th {\n",
       "        text-align: right;\n",
       "    }\n",
       "</style>\n",
       "<table border=\"1\" class=\"dataframe\">\n",
       "  <thead>\n",
       "    <tr style=\"text-align: right;\">\n",
       "      <th></th>\n",
       "      <th>2</th>\n",
       "    </tr>\n",
       "  </thead>\n",
       "  <tbody>\n",
       "    <tr>\n",
       "      <th>0</th>\n",
       "      <td>2</td>\n",
       "    </tr>\n",
       "    <tr>\n",
       "      <th>1</th>\n",
       "      <td>5</td>\n",
       "    </tr>\n",
       "    <tr>\n",
       "      <th>2</th>\n",
       "      <td>6</td>\n",
       "    </tr>\n",
       "  </tbody>\n",
       "</table>\n",
       "</div>"
      ],
      "text/plain": [
       "   2\n",
       "0  2\n",
       "1  5\n",
       "2  6"
      ]
     },
     "execution_count": 48,
     "metadata": {},
     "output_type": "execute_result"
    }
   ],
   "source": [
    "data.dropna(axis='rows', thresh=2) # axis=0 means drop rows which have missing values\n",
    "data.dropna(axis='columns') # axis=0 means drop rows which have missing values"
   ]
  },
  {
   "cell_type": "code",
   "execution_count": 47,
   "metadata": {},
   "outputs": [
    {
     "data": {
      "text/html": [
       "<div>\n",
       "<style scoped>\n",
       "    .dataframe tbody tr th:only-of-type {\n",
       "        vertical-align: middle;\n",
       "    }\n",
       "\n",
       "    .dataframe tbody tr th {\n",
       "        vertical-align: top;\n",
       "    }\n",
       "\n",
       "    .dataframe thead th {\n",
       "        text-align: right;\n",
       "    }\n",
       "</style>\n",
       "<table border=\"1\" class=\"dataframe\">\n",
       "  <thead>\n",
       "    <tr style=\"text-align: right;\">\n",
       "      <th></th>\n",
       "      <th>0</th>\n",
       "      <th>1</th>\n",
       "      <th>2</th>\n",
       "    </tr>\n",
       "  </thead>\n",
       "  <tbody>\n",
       "    <tr>\n",
       "      <th>0</th>\n",
       "      <td>1.0</td>\n",
       "      <td>NaN</td>\n",
       "      <td>2</td>\n",
       "    </tr>\n",
       "    <tr>\n",
       "      <th>1</th>\n",
       "      <td>2.0</td>\n",
       "      <td>3.0</td>\n",
       "      <td>5</td>\n",
       "    </tr>\n",
       "    <tr>\n",
       "      <th>2</th>\n",
       "      <td>NaN</td>\n",
       "      <td>4.0</td>\n",
       "      <td>6</td>\n",
       "    </tr>\n",
       "  </tbody>\n",
       "</table>\n",
       "</div>"
      ],
      "text/plain": [
       "     0    1  2\n",
       "0  1.0  NaN  2\n",
       "1  2.0  3.0  5\n",
       "2  NaN  4.0  6"
      ]
     },
     "execution_count": 47,
     "metadata": {},
     "output_type": "execute_result"
    }
   ],
   "source": [
    "data.dropna(axis='rows', thresh=1)"
   ]
  },
  {
   "cell_type": "code",
   "execution_count": 49,
   "metadata": {},
   "outputs": [
    {
     "name": "stdout",
     "output_type": "stream",
     "text": [
      "     0    1  2\n",
      "0  1.0  NaN  2\n",
      "1  2.0  3.0  5\n",
      "2  NaN  4.0  6\n"
     ]
    },
    {
     "data": {
      "text/html": [
       "<div>\n",
       "<style scoped>\n",
       "    .dataframe tbody tr th:only-of-type {\n",
       "        vertical-align: middle;\n",
       "    }\n",
       "\n",
       "    .dataframe tbody tr th {\n",
       "        vertical-align: top;\n",
       "    }\n",
       "\n",
       "    .dataframe thead th {\n",
       "        text-align: right;\n",
       "    }\n",
       "</style>\n",
       "<table border=\"1\" class=\"dataframe\">\n",
       "  <thead>\n",
       "    <tr style=\"text-align: right;\">\n",
       "      <th></th>\n",
       "      <th>0</th>\n",
       "      <th>1</th>\n",
       "      <th>2</th>\n",
       "    </tr>\n",
       "  </thead>\n",
       "  <tbody>\n",
       "    <tr>\n",
       "      <th>0</th>\n",
       "      <td>1.0</td>\n",
       "      <td>NaN</td>\n",
       "      <td>2</td>\n",
       "    </tr>\n",
       "    <tr>\n",
       "      <th>1</th>\n",
       "      <td>2.0</td>\n",
       "      <td>3.0</td>\n",
       "      <td>5</td>\n",
       "    </tr>\n",
       "    <tr>\n",
       "      <th>2</th>\n",
       "      <td>NaN</td>\n",
       "      <td>4.0</td>\n",
       "      <td>6</td>\n",
       "    </tr>\n",
       "  </tbody>\n",
       "</table>\n",
       "</div>"
      ],
      "text/plain": [
       "     0    1  2\n",
       "0  1.0  NaN  2\n",
       "1  2.0  3.0  5\n",
       "2  NaN  4.0  6"
      ]
     },
     "execution_count": 49,
     "metadata": {},
     "output_type": "execute_result"
    }
   ],
   "source": [
    "data = pd.DataFrame([[1, np.nan, 2],[2, 3, 5], [np.nan, 4, 6]])\n",
    "print(data)\n",
    "# data.dropna(axis='rows', thresh=1) # axis=0 means drop rows wich have more missing values\n",
    "data.dropna(axis='columns', thresh=2) # axis=0 means drop rows wich have more missing values\n",
    "# thresh = 2 means it needs 2 non null values to retain a column.\n",
    "# thresh should be a large to have more non null values"
   ]
  },
  {
   "cell_type": "code",
   "execution_count": 50,
   "metadata": {},
   "outputs": [
    {
     "name": "stdout",
     "output_type": "stream",
     "text": [
      "     0    1  2\n",
      "0  1.0  NaN  2\n",
      "1  2.0  3.0  5\n",
      "2  NaN  4.0  6\n"
     ]
    },
    {
     "data": {
      "text/html": [
       "<div>\n",
       "<style scoped>\n",
       "    .dataframe tbody tr th:only-of-type {\n",
       "        vertical-align: middle;\n",
       "    }\n",
       "\n",
       "    .dataframe tbody tr th {\n",
       "        vertical-align: top;\n",
       "    }\n",
       "\n",
       "    .dataframe thead th {\n",
       "        text-align: right;\n",
       "    }\n",
       "</style>\n",
       "<table border=\"1\" class=\"dataframe\">\n",
       "  <thead>\n",
       "    <tr style=\"text-align: right;\">\n",
       "      <th></th>\n",
       "      <th>2</th>\n",
       "    </tr>\n",
       "  </thead>\n",
       "  <tbody>\n",
       "    <tr>\n",
       "      <th>0</th>\n",
       "      <td>2</td>\n",
       "    </tr>\n",
       "    <tr>\n",
       "      <th>1</th>\n",
       "      <td>5</td>\n",
       "    </tr>\n",
       "    <tr>\n",
       "      <th>2</th>\n",
       "      <td>6</td>\n",
       "    </tr>\n",
       "  </tbody>\n",
       "</table>\n",
       "</div>"
      ],
      "text/plain": [
       "   2\n",
       "0  2\n",
       "1  5\n",
       "2  6"
      ]
     },
     "execution_count": 50,
     "metadata": {},
     "output_type": "execute_result"
    }
   ],
   "source": [
    "data = pd.DataFrame([[1, np.nan, 2],[2, 3, 5], [np.nan, 4, 6]])\n",
    "print(data)\n",
    "# data.dropna(axis='rows', thresh=1)  # axis=0 means drop rows wich have more missing values\n",
    "data.dropna(axis='columns', thresh=3) # axis=0 means drop rows wich have more missing values\n",
    "# thresh should be a large to have more non null values"
   ]
  },
  {
   "cell_type": "code",
   "execution_count": 52,
   "metadata": {},
   "outputs": [
    {
     "name": "stdout",
     "output_type": "stream",
     "text": [
      "     0    1  2\n",
      "0  1.0  NaN  2\n",
      "1  2.0  3.0  5\n",
      "2  NaN  4.0  6\n"
     ]
    }
   ],
   "source": [
    "data = pd.DataFrame([[1, np.nan, 2],[2, 3, 5], [np.nan, 4, 6]])\n",
    "print(data)\n",
    "# data.dropna(axis='rows', thresh=1) # axis=0 means drop rows wich have more missing values\n",
    "data.dropna(axis='columns', thresh=4,inplace=True) # axis=0 means drop rows wich have more missing values\n",
    "# thresh = 2 means it needs 2 non null values to retain a column.\n",
    "# thresh should be a large to have more non null values"
   ]
  },
  {
   "cell_type": "code",
   "execution_count": 55,
   "metadata": {},
   "outputs": [
    {
     "data": {
      "text/html": [
       "<div>\n",
       "<style scoped>\n",
       "    .dataframe tbody tr th:only-of-type {\n",
       "        vertical-align: middle;\n",
       "    }\n",
       "\n",
       "    .dataframe tbody tr th {\n",
       "        vertical-align: top;\n",
       "    }\n",
       "\n",
       "    .dataframe thead th {\n",
       "        text-align: right;\n",
       "    }\n",
       "</style>\n",
       "<table border=\"1\" class=\"dataframe\">\n",
       "  <thead>\n",
       "    <tr style=\"text-align: right;\">\n",
       "      <th></th>\n",
       "      <th>Animals</th>\n",
       "      <th>Age</th>\n",
       "      <th>Visits</th>\n",
       "      <th>Priority</th>\n",
       "    </tr>\n",
       "  </thead>\n",
       "  <tbody>\n",
       "    <tr>\n",
       "      <th>a</th>\n",
       "      <td>cat</td>\n",
       "      <td>2.5</td>\n",
       "      <td>1</td>\n",
       "      <td>y</td>\n",
       "    </tr>\n",
       "    <tr>\n",
       "      <th>b</th>\n",
       "      <td>cat</td>\n",
       "      <td>3.0</td>\n",
       "      <td>3</td>\n",
       "      <td>y</td>\n",
       "    </tr>\n",
       "    <tr>\n",
       "      <th>c</th>\n",
       "      <td>turtle</td>\n",
       "      <td>0.5</td>\n",
       "      <td>2</td>\n",
       "      <td>n</td>\n",
       "    </tr>\n",
       "    <tr>\n",
       "      <th>d</th>\n",
       "      <td>dog</td>\n",
       "      <td>NaN</td>\n",
       "      <td>3</td>\n",
       "      <td>y</td>\n",
       "    </tr>\n",
       "    <tr>\n",
       "      <th>e</th>\n",
       "      <td>dog</td>\n",
       "      <td>5.0</td>\n",
       "      <td>2</td>\n",
       "      <td>n</td>\n",
       "    </tr>\n",
       "    <tr>\n",
       "      <th>f</th>\n",
       "      <td>cat</td>\n",
       "      <td>2.0</td>\n",
       "      <td>3</td>\n",
       "      <td>n</td>\n",
       "    </tr>\n",
       "    <tr>\n",
       "      <th>g</th>\n",
       "      <td>turtle</td>\n",
       "      <td>4.5</td>\n",
       "      <td>1</td>\n",
       "      <td>n</td>\n",
       "    </tr>\n",
       "    <tr>\n",
       "      <th>h</th>\n",
       "      <td>cat</td>\n",
       "      <td>NaN</td>\n",
       "      <td>1</td>\n",
       "      <td>y</td>\n",
       "    </tr>\n",
       "    <tr>\n",
       "      <th>i</th>\n",
       "      <td>dog</td>\n",
       "      <td>7.0</td>\n",
       "      <td>2</td>\n",
       "      <td>n</td>\n",
       "    </tr>\n",
       "    <tr>\n",
       "      <th>j</th>\n",
       "      <td>dog</td>\n",
       "      <td>3.0</td>\n",
       "      <td>1</td>\n",
       "      <td>n</td>\n",
       "    </tr>\n",
       "  </tbody>\n",
       "</table>\n",
       "</div>"
      ],
      "text/plain": [
       "  Animals  Age  Visits Priority\n",
       "a     cat  2.5       1        y\n",
       "b     cat  3.0       3        y\n",
       "c  turtle  0.5       2        n\n",
       "d     dog  NaN       3        y\n",
       "e     dog  5.0       2        n\n",
       "f     cat  2.0       3        n\n",
       "g  turtle  4.5       1        n\n",
       "h     cat  NaN       1        y\n",
       "i     dog  7.0       2        n\n",
       "j     dog  3.0       1        n"
      ]
     },
     "execution_count": 55,
     "metadata": {},
     "output_type": "execute_result"
    }
   ],
   "source": [
    "## Visualizing a DataFrames\n",
    "#First Create a DataFrame\n",
    "data={'Animals': ['cat','cat','turtle','dog','dog','cat','turtle','cat','dog','dog'],\n",
    "          'Age': [2.5,3,0.5,np.nan,5,2,4.5,np.nan,7,3], \n",
    "      'Visits' : [1,3,2,3,2,3,1,1,2,1], \n",
    "    'Priority' : ['y','y','n','y','n','n','n','y','n','n']}\n",
    "labels=['a','b','c','d','e','f','g','h','i','j']\n",
    "animals_data=pd.DataFrame(data,index=labels)\n",
    "animals_data\n",
    "#observe the data type of each column"
   ]
  },
  {
   "cell_type": "code",
   "execution_count": 56,
   "metadata": {},
   "outputs": [
    {
     "name": "stdout",
     "output_type": "stream",
     "text": [
      "  Animals  Age  Visits Priority\n",
      "a     cat  2.5       1        y\n",
      "b     cat  3.0       3        y\n",
      "c  turtle  0.5       2        n\n",
      "d     dog  NaN       3        y\n",
      "e     dog  5.0       2        n\n",
      "f     cat  2.0       3        n\n",
      "g  turtle  4.5       1        n\n",
      "h     cat  NaN       1        y\n",
      "i     dog  7.0       2        n\n",
      "j     dog  3.0       1        n\n"
     ]
    }
   ],
   "source": [
    "print(animals_data.dropna(axis='columns', thresh=2)) # if 2 non null value is there column is not dropped"
   ]
  },
  {
   "cell_type": "code",
   "execution_count": 57,
   "metadata": {},
   "outputs": [
    {
     "name": "stdout",
     "output_type": "stream",
     "text": [
      "  Animals  Age  Visits Priority\n",
      "a     cat  2.5       1        y\n",
      "b     cat  3.0       3        y\n",
      "c  turtle  0.5       2        n\n",
      "d     dog  NaN       3        y\n",
      "e     dog  5.0       2        n\n",
      "f     cat  2.0       3        n\n",
      "g  turtle  4.5       1        n\n",
      "h     cat  NaN       1        y\n",
      "i     dog  7.0       2        n\n",
      "j     dog  3.0       1        n\n"
     ]
    }
   ],
   "source": [
    "print(animals_data.dropna(axis='columns', thresh=8)) # if 8 non null value is there column is not dropped"
   ]
  },
  {
   "cell_type": "code",
   "execution_count": 59,
   "metadata": {},
   "outputs": [
    {
     "name": "stdout",
     "output_type": "stream",
     "text": [
      "  Animals  Visits Priority\n",
      "a     cat       1        y\n",
      "b     cat       3        y\n",
      "c  turtle       2        n\n",
      "d     dog       3        y\n",
      "e     dog       2        n\n",
      "f     cat       3        n\n",
      "g  turtle       1        n\n",
      "h     cat       1        y\n",
      "i     dog       2        n\n",
      "j     dog       1        n\n"
     ]
    }
   ],
   "source": [
    "print(animals_data.dropna(axis='columns', thresh=9)) # if 9 non null value is there column is dropped"
   ]
  },
  {
   "cell_type": "code",
   "execution_count": 58,
   "metadata": {},
   "outputs": [
    {
     "name": "stdout",
     "output_type": "stream",
     "text": [
      "  Animals  Visits Priority\n",
      "a     cat       1        y\n",
      "b     cat       3        y\n",
      "c  turtle       2        n\n",
      "d     dog       3        y\n",
      "e     dog       2        n\n",
      "f     cat       3        n\n",
      "g  turtle       1        n\n",
      "h     cat       1        y\n",
      "i     dog       2        n\n",
      "j     dog       1        n\n"
     ]
    }
   ],
   "source": [
    "print(animals_data.dropna(axis='columns', thresh=9)) # if 9 non null value is there column is dropped"
   ]
  },
  {
   "cell_type": "code",
   "execution_count": 20,
   "metadata": {},
   "outputs": [
    {
     "name": "stdout",
     "output_type": "stream",
     "text": [
      "     0    1  2\n",
      "0  1.0  NaN  2\n",
      "1  2.0  3.0  5\n",
      "2  NaN  4.0  6\n",
      "     0    1  2\n",
      "0  1.0  3.0  2\n",
      "1  2.0  3.0  5\n",
      "2  NaN  4.0  6\n",
      "     0    1  2\n",
      "0  1.0  NaN  2\n",
      "1  2.0  3.0  5\n",
      "2  NaN  4.0  6\n"
     ]
    }
   ],
   "source": [
    "data = pd.DataFrame([[1, np.nan, 2],\n",
    " [2, 3, 5],\n",
    " [np.nan, 4, 6]])\n",
    "print(data)\n",
    "#print(data.fillna(0)) #we can fill with column mean or mode for categorical data\n",
    "#print(data.fillna(method='ffill'))\n",
    "print(data.fillna(method='bfill'))\n",
    "print(data) # original data will not change, to change we need to set inplace = True\n",
    "#find mean of each column and fill each individually"
   ]
  },
  {
   "cell_type": "code",
   "execution_count": 6,
   "metadata": {},
   "outputs": [
    {
     "name": "stdout",
     "output_type": "stream",
     "text": [
      "     0    1  2\n",
      "0  1.0  NaN  2\n",
      "1  2.0  3.0  5\n",
      "2  NaN  4.0  6\n",
      "     0    1  2\n",
      "0  1.0  0.0  2\n",
      "1  2.0  3.0  5\n",
      "2  0.0  4.0  6\n",
      "     0    1  2\n",
      "0  1.0  NaN  2\n",
      "1  2.0  3.0  5\n",
      "2  2.0  4.0  6\n",
      "     0    1  2\n",
      "0  1.0  NaN  2\n",
      "1  2.0  3.0  5\n",
      "2  NaN  4.0  6\n"
     ]
    }
   ],
   "source": [
    "data = pd.DataFrame([[1, np.nan, 2],\n",
    " [2, 3, 5],\n",
    " [np.nan, 4, 6]])\n",
    "print(data)\n",
    "print(data.fillna(0)) #we can fill with column mean or mode for categorical data\n",
    "print(data.fillna(method='ffill'))\n",
    "#print(data.fillna(method='bfill'))\n",
    "print(data) # original data will not change, to change we need to set inplace = True\n",
    "#find mean of each column and fill each individually"
   ]
  },
  {
   "cell_type": "code",
   "execution_count": 7,
   "metadata": {},
   "outputs": [
    {
     "name": "stdout",
     "output_type": "stream",
     "text": [
      "     0    1  2\n",
      "0  1.0  NaN  2\n",
      "1  2.0  3.0  5\n",
      "2  NaN  4.0  6\n",
      "     0    1  2\n",
      "0  1.0  0.0  2\n",
      "1  2.0  3.0  5\n",
      "2  0.0  4.0  6\n",
      "     0    1  2\n",
      "0  1.0  3.0  2\n",
      "1  2.0  3.0  5\n",
      "2  NaN  4.0  6\n",
      "     0    1  2\n",
      "0  1.0  NaN  2\n",
      "1  2.0  3.0  5\n",
      "2  NaN  4.0  6\n"
     ]
    }
   ],
   "source": [
    "data = pd.DataFrame([[1, np.nan, 2],\n",
    " [2, 3, 5],\n",
    " [np.nan, 4, 6]])\n",
    "print(data)\n",
    "print(data.fillna(0)) #we can fill with column mean or mode for categorical data\n",
    "#print(data.fillna(method='ffill'))\n",
    "print(data.fillna(method='bfill'))\n",
    "print(data) # original data will not change, to change we need to set inplace = True\n",
    "#find mean of each column and fill each individually"
   ]
  },
  {
   "cell_type": "code",
   "execution_count": 63,
   "metadata": {},
   "outputs": [
    {
     "name": "stdout",
     "output_type": "stream",
     "text": [
      "  Animals  Age  Visits Priority\n",
      "a     cat  2.5       1        y\n",
      "b     cat  3.0       3        y\n",
      "c  turtle  0.5       2        n\n",
      "d     dog  NaN       3        y\n",
      "e     dog  5.0       2        n\n",
      "f     cat  2.0       3        n\n",
      "g  turtle  4.5       1        n\n",
      "h     cat  NaN       1        y\n",
      "i     dog  7.0       2        n\n",
      "j     dog  3.0       1        n\n",
      "  Animals  Age  Visits Priority\n",
      "a     cat  2.5       1        y\n",
      "b     cat  3.0       3        y\n",
      "c  turtle  0.5       2        n\n",
      "d     dog  0.0       3        y\n",
      "e     dog  5.0       2        n\n",
      "f     cat  2.0       3        n\n",
      "g  turtle  4.5       1        n\n",
      "h     cat  0.0       1        y\n",
      "i     dog  7.0       2        n\n",
      "j     dog  3.0       1        n\n"
     ]
    }
   ],
   "source": [
    "## Visualizing a DataFrames\n",
    "#First Create a DataFrame\n",
    "data={'Animals': ['cat','cat','turtle','dog','dog','cat','turtle','cat','dog','dog'],\n",
    "          'Age': [2.5,3,0.5,np.nan,5,2,4.5,np.nan,7,3], \n",
    "      'Visits' : [1,3,2,3,2,3,1,1,2,1], \n",
    "    'Priority' : ['y','y','n','y','n','n','n','y','n','n']}\n",
    "labels=['a','b','c','d','e','f','g','h','i','j']\n",
    "animals_data=pd.DataFrame(data,index=labels)\n",
    "print(animals_data)\n",
    "print(animals_data.fillna(0))\n",
    "#print(animals_notnull)\n",
    "#print(\"\\n\\n\",animals_data.fillna(animals_data['Age'.mean()])) \n",
    "#observe the data type of each column"
   ]
  },
  {
   "cell_type": "code",
   "execution_count": 7,
   "metadata": {},
   "outputs": [
    {
     "name": "stdout",
     "output_type": "stream",
     "text": [
      "  Animals  Age  Visits Priority\n",
      "a     cat  2.5       1        y\n",
      "b     cat  3.0       3        y\n",
      "c  turtle  0.5       2        n\n",
      "d     dog  NaN       3        y\n",
      "e     dog  5.0       2        n\n",
      "f     cat  2.0       3        n\n",
      "g  turtle  4.5       1        n\n",
      "h     cat  NaN       1        y\n",
      "i     dog  7.0       2        n\n",
      "j     dog  3.0       1        n\n",
      "\n",
      "\n",
      "   Animals     Age  Visits Priority\n",
      "a     cat  2.5000       1        y\n",
      "b     cat  3.0000       3        y\n",
      "c  turtle  0.5000       2        n\n",
      "d     dog  3.4375       3        y\n",
      "e     dog  5.0000       2        n\n",
      "f     cat  2.0000       3        n\n",
      "g  turtle  4.5000       1        n\n",
      "h     cat  3.4375       1        y\n",
      "i     dog  7.0000       2        n\n",
      "j     dog  3.0000       1        n\n"
     ]
    }
   ],
   "source": [
    "## Visualizing a DataFrames\n",
    "#First Create a DataFrame\n",
    "data={'Animals': ['cat','cat','turtle','dog','dog','cat','turtle','cat','dog','dog'],\n",
    "          'Age': [2.5,3,0.5,np.nan,5,2,4.5,np.nan,7,3], \n",
    "      'Visits' : [1,3,2,3,2,3,1,1,2,1], \n",
    "    'Priority' : ['y','y','n','y','n','n','n','y','n','n']}\n",
    "labels=['a','b','c','d','e','f','g','h','i','j']\n",
    "animals_data=pd.DataFrame(data,index=labels)\n",
    "print(animals_data)\n",
    "#print(animals_data.fillna(0))\n",
    "#print(animals_notnull)\n",
    "print(\"\\n\\n\",animals_data.fillna(animals_data[['Age']].mean()))  \n",
    "#observe the data type of each column"
   ]
  },
  {
   "cell_type": "code",
   "execution_count": 9,
   "metadata": {},
   "outputs": [
    {
     "name": "stdout",
     "output_type": "stream",
     "text": [
      "  Animals  Age  Visits Priority\n",
      "a     cat  2.5       1        y\n",
      "b     cat  3.0       3        y\n",
      "c  turtle  0.5       2        n\n",
      "d     dog  NaN       3        y\n",
      "e     dog  5.0       2        n\n",
      "f     cat  2.0       3        n\n",
      "g  turtle  4.5       1        n\n",
      "h     cat  NaN       1        y\n",
      "i     dog  7.0       2        n\n",
      "j     dog  3.0       1        n\n",
      "  Animals  Age  Visits Priority\n",
      "a     cat  2.5       1        y\n",
      "b     cat  3.0       3        y\n",
      "c  turtle  0.5       2        n\n",
      "d     dog  0.0       3        y\n",
      "e     dog  5.0       2        n\n",
      "f     cat  2.0       3        n\n",
      "g  turtle  4.5       1        n\n",
      "h     cat  0.0       1        y\n",
      "i     dog  7.0       2        n\n",
      "j     dog  3.0       1        n\n"
     ]
    }
   ],
   "source": [
    "## Visualizing a DataFrames\n",
    "#First Create a DataFrame\n",
    "data={'Animals': ['cat','cat','turtle','dog','dog','cat','turtle','cat','dog','dog'],\n",
    "          'Age': [2.5,3,0.5,np.nan,5,2,4.5,np.nan,7,3], \n",
    "      'Visits' : [1,3,2,3,2,3,1,1,2,1], \n",
    "    'Priority' : ['y','y','n','y','n','n','n','y','n','n']}\n",
    "labels=['a','b','c','d','e','f','g','h','i','j']\n",
    "animals_data=pd.DataFrame(data,index=labels)\n",
    "print(animals_data)\n",
    "print(animals_data.fillna(0))\n",
    "#print(animals_notnull)\n",
    "#print(\"\\n\\n\",animals_data.fillna(animals_data[['Age']].mean()))  \n",
    "#observe the data type of each column"
   ]
  },
  {
   "cell_type": "code",
   "execution_count": 66,
   "metadata": {},
   "outputs": [
    {
     "name": "stdout",
     "output_type": "stream",
     "text": [
      "  Animals  Age  Visits Priority\n",
      "a     cat  2.5       1        y\n",
      "b     cat  3.0       3        y\n",
      "c  turtle  0.5       2        n\n",
      "d     dog  NaN       3        y\n",
      "e     dog  5.0       2        n\n",
      "f     cat  2.0       3        n\n",
      "g  turtle  4.5       1        n\n",
      "h     cat  NaN       1        y\n",
      "i     dog  7.0       2        n\n",
      "j     dog  3.0       1        n\n",
      "\n",
      "\n",
      "   Animals     Age  Visits Priority\n",
      "a     cat  2.5000       1        y\n",
      "b     cat  3.0000       3        y\n",
      "c  turtle  0.5000       2        n\n",
      "d     dog  3.4375       3        y\n",
      "e     dog  5.0000       2        n\n",
      "f     cat  2.0000       3        n\n",
      "g  turtle  4.5000       1        n\n",
      "h     cat  3.4375       1        y\n",
      "i     dog  7.0000       2        n\n",
      "j     dog  3.0000       1        n\n"
     ]
    }
   ],
   "source": [
    "#First Create a DataFrame\n",
    "data={'Animals': ['cat','cat','turtle','dog','dog','cat','turtle','cat','dog','dog'],\n",
    "          'Age': [2.5,3,0.5,np.nan,5,2,4.5,np.nan,7,3], \n",
    "      'Visits' : [1,3,2,3,2,3,1,1,2,1], \n",
    "    'Priority' : ['y','y','n','y','n','n','n','y','n','n']}\n",
    "labels=['a','b','c','d','e','f','g','h','i','j']\n",
    "animals_data=pd.DataFrame(data,index=labels)\n",
    "print(animals_data)\n",
    "#print(animals_data.fillna(0))\n",
    "print(\"\\n\\n\",animals_data.fillna(animals_data['Age'].mean()))  \n",
    "#observe the data type of each column"
   ]
  },
  {
   "cell_type": "code",
   "execution_count": null,
   "metadata": {},
   "outputs": [],
   "source": [
    "data = pd.DataFrame([[1, np.nan, 2],\n",
    " [2, 3, 5],\n",
    " [np.nan, 4, 6]])\n",
    "print(data)\n",
    "#print(data.fillna(0)) we can fill with column mean or mode for categorical\n",
    "data\n",
    "#print(data.fillna(method='ffill'))\n",
    "print(data.fillna(method='bfill'))\n",
    "print(data)\n",
    "# original data will not change, to change we need to set inplace = True\n",
    "#find mean of each column and fill each individually\n"
   ]
  },
  {
   "cell_type": "code",
   "execution_count": 23,
   "metadata": {},
   "outputs": [
    {
     "name": "stdout",
     "output_type": "stream",
     "text": [
      "  Animals  Age  Visits Priority\n",
      "a     cat  2.5       1        y\n",
      "b     cat  3.0       3        y\n",
      "c  turtle  0.5       2        n\n",
      "d     dog  NaN       3        y\n",
      "e     dog  5.0       2        n\n",
      "f     cat  2.0       3        n\n",
      "g  turtle  4.5       1        n\n",
      "h     cat  NaN       1        y\n",
      "i     dog  7.0       2        n\n",
      "j     dog  3.0       1        n\n",
      "  Animals  Age  Visits Priority\n",
      "a     cat  2.5       1        y\n",
      "b     cat  3.0       3        y\n",
      "c  turtle  0.5       2        n\n",
      "d     dog  0.0       3        y\n",
      "e     dog  5.0       2        n\n",
      "f     cat  2.0       3        n\n",
      "g  turtle  4.5       1        n\n",
      "h     cat  0.0       1        y\n",
      "i     dog  7.0       2        n\n",
      "j     dog  3.0       1        n\n",
      "\n",
      "\n",
      "   Animals     Age  Visits Priority\n",
      "a     cat  2.5000       1        y\n",
      "b     cat  3.0000       3        y\n",
      "c  turtle  0.5000       2        n\n",
      "d     dog  3.4375       3        y\n",
      "e     dog  5.0000       2        n\n",
      "f     cat  2.0000       3        n\n",
      "g  turtle  4.5000       1        n\n",
      "h     cat  3.4375       1        y\n",
      "i     dog  7.0000       2        n\n",
      "j     dog  3.0000       1        n\n",
      "{'Animals': ['cat', 'cat', 'turtle', 'dog', 'dog', 'cat', 'turtle', 'cat', 'dog', 'dog'], 'Age': [2.5, 3, 0.5, nan, 5, 2, 4.5, nan, 7, 3], 'Visits': [1, 3, 2, 3, 2, 3, 1, 1, 2, 1], 'Priority': ['y', 'y', 'n', 'y', 'n', 'n', 'n', 'y', 'n', 'n']}\n"
     ]
    }
   ],
   "source": [
    "#First Create a DataFrame\n",
    "data={'Animals': ['cat','cat','turtle','dog','dog','cat','turtle','cat','dog','dog'],\n",
    "          'Age': [2.5,3,0.5,np.nan,5,2,4.5,np.nan,7,3], \n",
    "      'Visits' : [1,3,2,3,2,3,1,1,2,1], \n",
    "    'Priority' : ['y','y','n','y','n','n','n','y','n','n']}\n",
    "labels=['a','b','c','d','e','f','g','h','i','j']\n",
    "animals_data=pd.DataFrame(data,index=labels)\n",
    "print(animals_data)\n",
    "print(animals_data.fillna(0))\n",
    "#prin(animals_notnull)\n",
    "print(\"\\n\\n\",animals_data.fillna(animals_data['Age'].mean()))\n",
    "#print(data.fillna(method='ffill')) # carry the previous data forward\n",
    "print(data)\n",
    "#print(data.fillna(method='bfill'))  # carry the following data backward\n",
    "#observe the data type of each column"
   ]
  },
  {
   "cell_type": "code",
   "execution_count": 24,
   "metadata": {},
   "outputs": [
    {
     "name": "stdout",
     "output_type": "stream",
     "text": [
      "  Animals  Age  Visits Priority\n",
      "a     cat  2.5       1        y\n",
      "b     cat  3.0       3        y\n",
      "c  turtle  0.5       2        n\n",
      "d     dog  NaN       3        y\n",
      "e     dog  5.0       2        n\n",
      "f     cat  2.0       3        n\n",
      "g  turtle  4.5       1        n\n",
      "h     cat  NaN       1        y\n",
      "i     dog  7.0       2        n\n",
      "j     dog  3.0       1        n\n",
      "\n",
      "\n",
      "   Animals  Age  Visits Priority\n",
      "a     cat  2.5       1        y\n",
      "b     cat  3.0       3        y\n",
      "c  turtle  0.5       2        n\n",
      "d     dog  0.8       3        y\n",
      "e     dog  5.0       2        n\n",
      "f     cat  2.0       3        n\n",
      "g  turtle  4.5       1        n\n",
      "h     cat  0.8       1        y\n",
      "i     dog  7.0       2        n\n",
      "j     dog  3.0       1        n\n"
     ]
    }
   ],
   "source": [
    "#First Create a DataFrame\n",
    "data={'Animals': ['cat','cat','turtle','dog','dog','cat','turtle','cat','dog','dog'],\n",
    "          'Age': [2.5,3,0.5,np.nan,5,2,4.5,np.nan,7,3], \n",
    "      'Visits' : [1,3,2,3,2,3,1,1,2,1], \n",
    "    'Priority' : ['y','y','n','y','n','n','n','y','n','n']}\n",
    "labels=['a','b','c','d','e','f','g','h','i','j']\n",
    "animals_data=pd.DataFrame(data,index=labels)\n",
    "print(animals_data)\n",
    "animals_notnull= animals_data.fillna(0)\n",
    "print(\"\\n\\n\", animals_data.fillna(0.8))\n",
    "#print(animals_data.fillna(0))\n",
    "#print(animals_notnull)\n",
    "#print(\"\\n\\n\",animals_data.fillna(animals_data['Age'].mean()))\n",
    "#print(data.fillna(method='ffill')) # carry the previous data forward\n",
    "#print(data.fillna(method='bfill'))  # carry the following data backward\n",
    "#print(data)\n",
    "#print(animals_notnull)\n",
    "#observe the data type of each column"
   ]
  },
  {
   "cell_type": "code",
   "execution_count": 26,
   "metadata": {},
   "outputs": [
    {
     "name": "stdout",
     "output_type": "stream",
     "text": [
      "  Animals  Age  Visits Priority\n",
      "a     cat  2.5       1        y\n",
      "b     cat  3.0       3        y\n",
      "c  turtle  0.5       2        n\n",
      "d     dog  NaN       3        y\n",
      "e     dog  5.0       2        n\n",
      "f     cat  2.0       3        n\n",
      "g  turtle  4.5       1        n\n",
      "h     cat  NaN       1        y\n",
      "i     dog  7.0       2        n\n",
      "j     dog  3.0       1        n\n",
      "\n",
      "\n",
      "   Animals  Age  Visits Priority\n",
      "a     cat  2.5       1        y\n",
      "b     cat  3.0       3        y\n",
      "c  turtle  0.5       2        n\n",
      "d     dog  0.8       3        y\n",
      "e     dog  5.0       2        n\n",
      "f     cat  2.0       3        n\n",
      "g  turtle  4.5       1        n\n",
      "h     cat  0.8       1        y\n",
      "i     dog  7.0       2        n\n",
      "j     dog  3.0       1        n\n",
      "  Animals  Age  Visits Priority\n",
      "a     cat  2.5       1        y\n",
      "b     cat  3.0       3        y\n",
      "c  turtle  0.5       2        n\n",
      "d     dog  0.0       3        y\n",
      "e     dog  5.0       2        n\n",
      "f     cat  2.0       3        n\n",
      "g  turtle  4.5       1        n\n",
      "h     cat  0.0       1        y\n",
      "i     dog  7.0       2        n\n",
      "j     dog  3.0       1        n\n"
     ]
    }
   ],
   "source": [
    "#First Create a DataFrame\n",
    "data={'Animals': ['cat','cat','turtle','dog','dog','cat','turtle','cat','dog','dog'],\n",
    "          'Age': [2.5,3,0.5,np.nan,5,2,4.5,np.nan,7,3], \n",
    "      'Visits' : [1,3,2,3,2,3,1,1,2,1], \n",
    "    'Priority' : ['y','y','n','y','n','n','n','y','n','n']}\n",
    "labels=['a','b','c','d','e','f','g','h','i','j']\n",
    "animals_data=pd.DataFrame(data,index=labels)\n",
    "print(animals_data)\n",
    "animals_notnull= animals_data.fillna(0)\n",
    "print(\"\\n\\n\", animals_data.fillna(0.8))\n",
    "print(animals_data.fillna(0))\n",
    "#print(animals_notnull)\n",
    "#print(\"\\n\\n\",animals_data.fillna(animals_data['Age'].mean()))\n",
    "#print(data.fillna(method='ffill')) # carry the previous data forward\n",
    "#print(data.fillna(method='bfill'))  # carry the following data backward\n",
    "#print(data)\n",
    "#print(animals_notnull)\n",
    "#observe the data type of each column"
   ]
  },
  {
   "cell_type": "code",
   "execution_count": 48,
   "metadata": {},
   "outputs": [
    {
     "name": "stdout",
     "output_type": "stream",
     "text": [
      "  Animals  Age  Visits Priority\n",
      "a     cat  2.5       1        y\n",
      "b     cat  3.0       3        y\n",
      "c  turtle  0.5       2        n\n",
      "d     dog  NaN       3        y\n",
      "e     dog  5.0       2        n\n",
      "f     cat  2.0       3        n\n",
      "g  turtle  4.5       1        n\n",
      "h     cat  NaN       1        y\n",
      "i     dog  7.0       2        n\n",
      "j     dog  3.0       1        n\n",
      "  Animals  Age  Visits Priority\n",
      "a     cat  2.5       1        y\n",
      "b     cat  3.0       3        y\n",
      "c  turtle  0.5       2        n\n",
      "d     dog  0.5       3        y\n",
      "e     dog  5.0       2        n\n",
      "f     cat  2.0       3        n\n",
      "g  turtle  4.5       1        n\n",
      "h     cat  4.5       1        y\n",
      "i     dog  7.0       2        n\n",
      "j     dog  3.0       1        n\n",
      "  Animals  Age  Visits Priority\n",
      "a     cat  2.5       1        y\n",
      "b     cat  3.0       3        y\n",
      "c  turtle  0.5       2        n\n",
      "d     dog  NaN       3        y\n",
      "e     dog  5.0       2        n\n",
      "f     cat  2.0       3        n\n",
      "g  turtle  4.5       1        n\n",
      "h     cat  NaN       1        y\n",
      "i     dog  7.0       2        n\n",
      "j     dog  3.0       1        n\n"
     ]
    }
   ],
   "source": [
    "#First Create a DataFrame\n",
    "data={'Animals': ['cat','cat','turtle','dog','dog','cat','turtle','cat','dog','dog'],\n",
    "          'Age': [2.5,3,0.5,np.nan,5,2,4.5,np.nan,7,3], \n",
    "      'Visits' : [1,3,2,3,2,3,1,1,2,1], \n",
    "    'Priority' : ['y','y','n','y','n','n','n','y','n','n']}\n",
    "labels=['a','b','c','d','e','f','g','h','i','j']\n",
    "animals_data=pd.DataFrame(data,index=labels)\n",
    "print(animals_data)\n",
    "#animals_notnull= animals_data.fillna(0)\n",
    "#print(\"\\n\\n\", animals_data.fillna(0.5))\n",
    "#print(animals_data.fillna(0))\n",
    "#print(animals_notnull)\n",
    "#print(\"\\n\\n\",animals_data.fillna(animals_data['Age'].mean()))\n",
    "print(animals_data.fillna(method='ffill')) # carry the previous data forward\n",
    "#print(data.fillna(method='bfill'))  # carry the following data backward\n",
    "print(animals_data)\n",
    "#print(animals_notnull)\n",
    "#observe the data type of each column"
   ]
  },
  {
   "cell_type": "code",
   "execution_count": 50,
   "metadata": {},
   "outputs": [
    {
     "name": "stdout",
     "output_type": "stream",
     "text": [
      "  Animals  Age  Visits Priority\n",
      "a     cat  2.5       1        y\n",
      "b     cat  3.0       3        y\n",
      "c  turtle  0.5       2        n\n",
      "d     dog  NaN       3        y\n",
      "e     dog  5.0       2        n\n",
      "f     cat  2.0       3        n\n",
      "g  turtle  4.5       1        n\n",
      "h     cat  NaN       1        y\n",
      "i     dog  7.0       2        n\n",
      "j     dog  3.0       1        n\n",
      "  Animals  Age  Visits Priority\n",
      "a     cat  2.5       1        y\n",
      "b     cat  3.0       3        y\n",
      "c  turtle  0.5       2        n\n",
      "d     dog  5.0       3        y\n",
      "e     dog  5.0       2        n\n",
      "f     cat  2.0       3        n\n",
      "g  turtle  4.5       1        n\n",
      "h     cat  7.0       1        y\n",
      "i     dog  7.0       2        n\n",
      "j     dog  3.0       1        n\n",
      "  Animals  Age  Visits Priority\n",
      "a     cat  2.5       1        y\n",
      "b     cat  3.0       3        y\n",
      "c  turtle  0.5       2        n\n",
      "d     dog  NaN       3        y\n",
      "e     dog  5.0       2        n\n",
      "f     cat  2.0       3        n\n",
      "g  turtle  4.5       1        n\n",
      "h     cat  NaN       1        y\n",
      "i     dog  7.0       2        n\n",
      "j     dog  3.0       1        n\n"
     ]
    }
   ],
   "source": [
    "#First Create a DataFrame\n",
    "data={'Animals': ['cat','cat','turtle','dog','dog','cat','turtle','cat','dog','dog'],\n",
    "          'Age': [2.5,3,0.5,np.nan,5,2,4.5,np.nan,7,3], \n",
    "      'Visits' : [1,3,2,3,2,3,1,1,2,1], \n",
    "    'Priority' : ['y','y','n','y','n','n','n','y','n','n']}\n",
    "labels=['a','b','c','d','e','f','g','h','i','j']\n",
    "animals_data=pd.DataFrame(data,index=labels)\n",
    "print(animals_data)\n",
    "#animals_notnull= animals_data.fillna(0)\n",
    "#print(\"\\n\\n\", animals_data.fillna(0.5))\n",
    "#print(animals_data.fillna(0))\n",
    "#print(animals_notnull)\n",
    "#print(\"\\n\\n\",animals_data.fillna(animals_data['Age'].mean()))\n",
    "#print(animals_data.fillna(method='ffill')) # carry the previous data forward\n",
    "print(animals_data.fillna(method='bfill'))  # carry the following data backward\n",
    "print(animals_data)\n",
    "#print(animals_notnull)\n",
    "#observe the data type of each column"
   ]
  },
  {
   "cell_type": "code",
   "execution_count": 34,
   "metadata": {},
   "outputs": [
    {
     "name": "stdout",
     "output_type": "stream",
     "text": [
      "  Animals  Age  Visits Priority\n",
      "a     cat  2.5       1        y\n",
      "b     cat  3.0       3        y\n",
      "c  turtle  0.5       2        n\n",
      "d     dog  NaN       3        y\n",
      "e     dog  5.0       2         \n",
      "f     cat  2.0       3        n\n",
      "g  turtle  4.5       1        n\n",
      "h     cat  NaN       1         \n",
      "i     dog  7.0       2        n\n",
      "j     dog  3.0       1        n\n",
      "a     y\n",
      "b     y\n",
      "c     n\n",
      "d     y\n",
      "e      \n",
      "f     n\n",
      "g     n\n",
      "h      \n",
      "i     n\n",
      "j     n\n",
      "Name: Priority, dtype: object\n"
     ]
    }
   ],
   "source": [
    "#First Create a DataFrame\n",
    "data={'Animals': ['cat','cat','turtle','dog','dog','cat','turtle','cat','dog','dog'],\n",
    "          'Age': [2.5,3,0.5,np.nan,5,2,4.5,np.nan,7,3], \n",
    "      'Visits' : [1,3,2,3,2,3,1,1,2,1], \n",
    "    'Priority' : ['y','y','n','y',' ','n','n','  ','n','n']}\n",
    "labels=['a','b','c','d','e','f','g','h','i','j']\n",
    "animals_data=pd.DataFrame(data,index=labels)\n",
    "print(animals_data)\n",
    "print(animals_data['Priority'])\n",
    "#print(animals_data.fillna(0))\n",
    "#print(animals_notnull)\n",
    "#print(\"\\n\\n\",animals_data.fillna(animals_data['Age'].mean()))\n",
    "#print(data.fillna(method='ffill')) # carry the previous data forward\n",
    "#print(data.fillna(method='bfill'))  # carry the following data backward\n",
    "#print(data)\n",
    "#print(animals_notnull)\n",
    "#observe the data type of each column"
   ]
  },
  {
   "cell_type": "code",
   "execution_count": 46,
   "metadata": {},
   "outputs": [
    {
     "name": "stdout",
     "output_type": "stream",
     "text": [
      "     0    1  2\n",
      "0  1.0  NaN  2\n",
      "1  2.0  3.0  5\n",
      "2  NaN  4.0  6\n",
      "     0    1  2\n",
      "0  1.0  3.0  2\n",
      "1  2.0  3.0  5\n",
      "2  NaN  4.0  6\n",
      "     0    1  2\n",
      "0  1.0  NaN  2\n",
      "1  2.0  3.0  5\n",
      "2  NaN  4.0  6\n"
     ]
    }
   ],
   "source": [
    "data = pd.DataFrame([[1,      np.nan, 2],    \n",
    "                   [2,      3,      5],     \n",
    "                   [np.nan, 4,      6]]) \n",
    "print(data)\n",
    "#print(data.fillna(0))     we can fill with column mean or mode for categorical data\n",
    "#print(data.fillna(method='ffill'))\n",
    "print(data.fillna(method='bfill'))\n",
    "print(data)          # original data will not change, to change we need to set inplace = True\n",
    "#find mean of each column and fill each individually"
   ]
  },
  {
   "cell_type": "code",
   "execution_count": 78,
   "metadata": {},
   "outputs": [],
   "source": [
    "animals_data.to_csv('animal.csv')"
   ]
  },
  {
   "cell_type": "code",
   "execution_count": 79,
   "metadata": {},
   "outputs": [
    {
     "name": "stdout",
     "output_type": "stream",
     "text": [
      "  Unnamed: 0 Animals  Age  Visits Priority\n",
      "0          a     cat  2.5       1        y\n",
      "1          b     cat  3.0       3        y\n",
      "2          c  turtle  0.5       2        n\n",
      "3          d     dog  NaN       3        y\n",
      "4          e     dog  5.0       2        n\n",
      "5          f     cat  2.0       3        n\n",
      "6          g  turtle  4.5       1        n\n",
      "7          h     cat  NaN       1        y\n",
      "8          i     dog  7.0       2        n\n",
      "9          j     dog  3.0       1        n\n"
     ]
    }
   ],
   "source": [
    "df_animal=pd.read_csv('animal.csv')\n",
    "print(df_animal)\n",
    "#df_animal.head(3)"
   ]
  },
  {
   "cell_type": "code",
   "execution_count": 81,
   "metadata": {},
   "outputs": [
    {
     "data": {
      "text/html": [
       "<div>\n",
       "<style scoped>\n",
       "    .dataframe tbody tr th:only-of-type {\n",
       "        vertical-align: middle;\n",
       "    }\n",
       "\n",
       "    .dataframe tbody tr th {\n",
       "        vertical-align: top;\n",
       "    }\n",
       "\n",
       "    .dataframe thead th {\n",
       "        text-align: right;\n",
       "    }\n",
       "</style>\n",
       "<table border=\"1\" class=\"dataframe\">\n",
       "  <thead>\n",
       "    <tr style=\"text-align: right;\">\n",
       "      <th></th>\n",
       "      <th>Unnamed: 0</th>\n",
       "      <th>Animals</th>\n",
       "      <th>Age</th>\n",
       "      <th>Visits</th>\n",
       "      <th>Priority</th>\n",
       "    </tr>\n",
       "  </thead>\n",
       "  <tbody>\n",
       "    <tr>\n",
       "      <th>0</th>\n",
       "      <td>a</td>\n",
       "      <td>cat</td>\n",
       "      <td>2.5</td>\n",
       "      <td>1</td>\n",
       "      <td>y</td>\n",
       "    </tr>\n",
       "    <tr>\n",
       "      <th>1</th>\n",
       "      <td>b</td>\n",
       "      <td>cat</td>\n",
       "      <td>3.0</td>\n",
       "      <td>3</td>\n",
       "      <td>y</td>\n",
       "    </tr>\n",
       "    <tr>\n",
       "      <th>2</th>\n",
       "      <td>c</td>\n",
       "      <td>turtle</td>\n",
       "      <td>0.5</td>\n",
       "      <td>2</td>\n",
       "      <td>n</td>\n",
       "    </tr>\n",
       "  </tbody>\n",
       "</table>\n",
       "</div>"
      ],
      "text/plain": [
       "  Unnamed: 0 Animals  Age  Visits Priority\n",
       "0          a     cat  2.5       1        y\n",
       "1          b     cat  3.0       3        y\n",
       "2          c  turtle  0.5       2        n"
      ]
     },
     "execution_count": 81,
     "metadata": {},
     "output_type": "execute_result"
    }
   ],
   "source": [
    "df_animal=pd.read_csv('animal.csv')\n",
    "#print(df_animal)\n",
    "df_animal.head(3)"
   ]
  },
  {
   "cell_type": "code",
   "execution_count": 85,
   "metadata": {},
   "outputs": [
    {
     "data": {
      "text/html": [
       "<div>\n",
       "<style scoped>\n",
       "    .dataframe tbody tr th:only-of-type {\n",
       "        vertical-align: middle;\n",
       "    }\n",
       "\n",
       "    .dataframe tbody tr th {\n",
       "        vertical-align: top;\n",
       "    }\n",
       "\n",
       "    .dataframe thead th {\n",
       "        text-align: right;\n",
       "    }\n",
       "</style>\n",
       "<table border=\"1\" class=\"dataframe\">\n",
       "  <thead>\n",
       "    <tr style=\"text-align: right;\">\n",
       "      <th></th>\n",
       "      <th>Unnamed: 0</th>\n",
       "      <th>Animals</th>\n",
       "      <th>Age</th>\n",
       "      <th>Visits</th>\n",
       "      <th>Priority</th>\n",
       "    </tr>\n",
       "  </thead>\n",
       "  <tbody>\n",
       "    <tr>\n",
       "      <th>0</th>\n",
       "      <td>a</td>\n",
       "      <td>cat</td>\n",
       "      <td>2.5</td>\n",
       "      <td>1</td>\n",
       "      <td>y</td>\n",
       "    </tr>\n",
       "    <tr>\n",
       "      <th>1</th>\n",
       "      <td>b</td>\n",
       "      <td>cat</td>\n",
       "      <td>3.0</td>\n",
       "      <td>3</td>\n",
       "      <td>y</td>\n",
       "    </tr>\n",
       "    <tr>\n",
       "      <th>2</th>\n",
       "      <td>c</td>\n",
       "      <td>turtle</td>\n",
       "      <td>0.5</td>\n",
       "      <td>2</td>\n",
       "      <td>n</td>\n",
       "    </tr>\n",
       "    <tr>\n",
       "      <th>3</th>\n",
       "      <td>d</td>\n",
       "      <td>dog</td>\n",
       "      <td>NaN</td>\n",
       "      <td>3</td>\n",
       "      <td>y</td>\n",
       "    </tr>\n",
       "    <tr>\n",
       "      <th>4</th>\n",
       "      <td>e</td>\n",
       "      <td>dog</td>\n",
       "      <td>5.0</td>\n",
       "      <td>2</td>\n",
       "      <td>n</td>\n",
       "    </tr>\n",
       "    <tr>\n",
       "      <th>5</th>\n",
       "      <td>f</td>\n",
       "      <td>cat</td>\n",
       "      <td>2.0</td>\n",
       "      <td>3</td>\n",
       "      <td>n</td>\n",
       "    </tr>\n",
       "    <tr>\n",
       "      <th>6</th>\n",
       "      <td>g</td>\n",
       "      <td>turtle</td>\n",
       "      <td>4.5</td>\n",
       "      <td>1</td>\n",
       "      <td>n</td>\n",
       "    </tr>\n",
       "    <tr>\n",
       "      <th>7</th>\n",
       "      <td>h</td>\n",
       "      <td>cat</td>\n",
       "      <td>NaN</td>\n",
       "      <td>1</td>\n",
       "      <td>y</td>\n",
       "    </tr>\n",
       "    <tr>\n",
       "      <th>8</th>\n",
       "      <td>i</td>\n",
       "      <td>dog</td>\n",
       "      <td>7.0</td>\n",
       "      <td>2</td>\n",
       "      <td>n</td>\n",
       "    </tr>\n",
       "    <tr>\n",
       "      <th>9</th>\n",
       "      <td>j</td>\n",
       "      <td>dog</td>\n",
       "      <td>3.0</td>\n",
       "      <td>1</td>\n",
       "      <td>n</td>\n",
       "    </tr>\n",
       "  </tbody>\n",
       "</table>\n",
       "</div>"
      ],
      "text/plain": [
       "  Unnamed: 0 Animals  Age  Visits Priority\n",
       "0          a     cat  2.5       1        y\n",
       "1          b     cat  3.0       3        y\n",
       "2          c  turtle  0.5       2        n\n",
       "3          d     dog  NaN       3        y\n",
       "4          e     dog  5.0       2        n\n",
       "5          f     cat  2.0       3        n\n",
       "6          g  turtle  4.5       1        n\n",
       "7          h     cat  NaN       1        y\n",
       "8          i     dog  7.0       2        n\n",
       "9          j     dog  3.0       1        n"
      ]
     },
     "execution_count": 85,
     "metadata": {},
     "output_type": "execute_result"
    }
   ],
   "source": [
    "animals_data.to_excel('animals.xlsx',sheet_name='sheet1')\n",
    "#animals_data.to_excel('animals.xlsx',sheet_name='sheet1')\n",
    "df_animal2=pd.read_excel('animals.xlsx','sheet1', index_col=None)\n",
    "df_animal2"
   ]
  },
  {
   "cell_type": "code",
   "execution_count": 36,
   "metadata": {},
   "outputs": [
    {
     "data": {
      "text/html": [
       "<div>\n",
       "<style scoped>\n",
       "    .dataframe tbody tr th:only-of-type {\n",
       "        vertical-align: middle;\n",
       "    }\n",
       "\n",
       "    .dataframe tbody tr th {\n",
       "        vertical-align: top;\n",
       "    }\n",
       "\n",
       "    .dataframe thead th {\n",
       "        text-align: right;\n",
       "    }\n",
       "</style>\n",
       "<table border=\"1\" class=\"dataframe\">\n",
       "  <thead>\n",
       "    <tr style=\"text-align: right;\">\n",
       "      <th></th>\n",
       "      <th>Unnamed: 0</th>\n",
       "      <th>Animals</th>\n",
       "      <th>Age</th>\n",
       "      <th>Visits</th>\n",
       "      <th>Priority</th>\n",
       "    </tr>\n",
       "  </thead>\n",
       "  <tbody>\n",
       "    <tr>\n",
       "      <th>0</th>\n",
       "      <td>a</td>\n",
       "      <td>cat</td>\n",
       "      <td>2.5</td>\n",
       "      <td>1</td>\n",
       "      <td>y</td>\n",
       "    </tr>\n",
       "    <tr>\n",
       "      <th>1</th>\n",
       "      <td>b</td>\n",
       "      <td>cat</td>\n",
       "      <td>3.0</td>\n",
       "      <td>3</td>\n",
       "      <td>y</td>\n",
       "    </tr>\n",
       "    <tr>\n",
       "      <th>2</th>\n",
       "      <td>c</td>\n",
       "      <td>turtle</td>\n",
       "      <td>0.5</td>\n",
       "      <td>2</td>\n",
       "      <td>n</td>\n",
       "    </tr>\n",
       "    <tr>\n",
       "      <th>3</th>\n",
       "      <td>d</td>\n",
       "      <td>dog</td>\n",
       "      <td>NaN</td>\n",
       "      <td>3</td>\n",
       "      <td>y</td>\n",
       "    </tr>\n",
       "    <tr>\n",
       "      <th>4</th>\n",
       "      <td>e</td>\n",
       "      <td>dog</td>\n",
       "      <td>5.0</td>\n",
       "      <td>2</td>\n",
       "      <td></td>\n",
       "    </tr>\n",
       "    <tr>\n",
       "      <th>5</th>\n",
       "      <td>f</td>\n",
       "      <td>cat</td>\n",
       "      <td>2.0</td>\n",
       "      <td>3</td>\n",
       "      <td>n</td>\n",
       "    </tr>\n",
       "    <tr>\n",
       "      <th>6</th>\n",
       "      <td>g</td>\n",
       "      <td>turtle</td>\n",
       "      <td>4.5</td>\n",
       "      <td>1</td>\n",
       "      <td>n</td>\n",
       "    </tr>\n",
       "    <tr>\n",
       "      <th>7</th>\n",
       "      <td>h</td>\n",
       "      <td>cat</td>\n",
       "      <td>NaN</td>\n",
       "      <td>1</td>\n",
       "      <td></td>\n",
       "    </tr>\n",
       "    <tr>\n",
       "      <th>8</th>\n",
       "      <td>i</td>\n",
       "      <td>dog</td>\n",
       "      <td>7.0</td>\n",
       "      <td>2</td>\n",
       "      <td>n</td>\n",
       "    </tr>\n",
       "    <tr>\n",
       "      <th>9</th>\n",
       "      <td>j</td>\n",
       "      <td>dog</td>\n",
       "      <td>3.0</td>\n",
       "      <td>1</td>\n",
       "      <td>n</td>\n",
       "    </tr>\n",
       "  </tbody>\n",
       "</table>\n",
       "</div>"
      ],
      "text/plain": [
       "  Unnamed: 0 Animals  Age  Visits Priority\n",
       "0          a     cat  2.5       1        y\n",
       "1          b     cat  3.0       3        y\n",
       "2          c  turtle  0.5       2        n\n",
       "3          d     dog  NaN       3        y\n",
       "4          e     dog  5.0       2         \n",
       "5          f     cat  2.0       3        n\n",
       "6          g  turtle  4.5       1        n\n",
       "7          h     cat  NaN       1         \n",
       "8          i     dog  7.0       2        n\n",
       "9          j     dog  3.0       1        n"
      ]
     },
     "execution_count": 36,
     "metadata": {},
     "output_type": "execute_result"
    }
   ],
   "source": [
    "animals_data.to_excel('animals.xlsx',sheet_name='sheet1')\n",
    "#animals_data.to_excel('animals.xlsx',sheet_name='sheet1')\n",
    "df_animal2=pd.read_excel('animals.xlsx','sheet1', index_col=None, na_values=['NA'])\n",
    "df_animal2"
   ]
  },
  {
   "cell_type": "code",
   "execution_count": 91,
   "metadata": {},
   "outputs": [
    {
     "name": "stdout",
     "output_type": "stream",
     "text": [
      "1    A\n",
      "2    B\n",
      "3    C\n",
      "dtype: object\n",
      "4    D\n",
      "5    E\n",
      "6    F\n",
      "dtype: object\n",
      "\n",
      "\n",
      " Concatenated Series\n",
      " 1    A\n",
      "2    B\n",
      "3    C\n",
      "4    D\n",
      "5    E\n",
      "6    F\n",
      "dtype: object\n"
     ]
    },
    {
     "data": {
      "text/plain": [
       "1    A\n",
       "2    B\n",
       "3    C\n",
       "4    D\n",
       "5    E\n",
       "6    F\n",
       "dtype: object"
      ]
     },
     "execution_count": 91,
     "metadata": {},
     "output_type": "execute_result"
    }
   ],
   "source": [
    "# Series Concatenation\n",
    "ser1 = pd.Series(['A', 'B', 'C'], index=[1, 2, 3])\n",
    "ser2 = pd.Series( ['D', 'E', 'F'], index=[4, 5, 6] ) #test with the same indser1\n",
    "print(ser1)\n",
    "print(ser2)\n",
    "print(\"\\n\\n Concatenated Series\\n\", pd.concat([ser1,ser2])) # append ser2 below ser1\n",
    "ser3=ser1.append(ser2)\n",
    "ser3"
   ]
  },
  {
   "cell_type": "code",
   "execution_count": 95,
   "metadata": {},
   "outputs": [
    {
     "name": "stdout",
     "output_type": "stream",
     "text": [
      "Data frame 1 : \n",
      "      A    B    C\n",
      "1  axe  bat  cap\n",
      "2  art  bar  cat\n",
      "3  ant  bin  car \n",
      " Data Frame 2: \n",
      "      D    E    F\n",
      "2  dam  ear  fan\n",
      "3  den  eat  fog\n",
      "6  dot  egg  fat\n",
      "Concatenating Data Frames: \n",
      "      A    B    C    D    E    F\n",
      "1  axe  bat  cap  NaN  NaN  NaN\n",
      "2  art  bar  cat  NaN  NaN  NaN\n",
      "3  ant  bin  car  NaN  NaN  NaN\n",
      "2  NaN  NaN  NaN  dam  ear  fan\n",
      "3  NaN  NaN  NaN  den  eat  fog\n",
      "6  NaN  NaN  NaN  dot  egg  fat\n"
     ]
    },
    {
     "data": {
      "text/html": [
       "<div>\n",
       "<style scoped>\n",
       "    .dataframe tbody tr th:only-of-type {\n",
       "        vertical-align: middle;\n",
       "    }\n",
       "\n",
       "    .dataframe tbody tr th {\n",
       "        vertical-align: top;\n",
       "    }\n",
       "\n",
       "    .dataframe thead th {\n",
       "        text-align: right;\n",
       "    }\n",
       "</style>\n",
       "<table border=\"1\" class=\"dataframe\">\n",
       "  <thead>\n",
       "    <tr style=\"text-align: right;\">\n",
       "      <th></th>\n",
       "      <th>A</th>\n",
       "      <th>B</th>\n",
       "      <th>C</th>\n",
       "    </tr>\n",
       "  </thead>\n",
       "  <tbody>\n",
       "    <tr>\n",
       "      <th>1</th>\n",
       "      <td>axe</td>\n",
       "      <td>bat</td>\n",
       "      <td>cap</td>\n",
       "    </tr>\n",
       "    <tr>\n",
       "      <th>2</th>\n",
       "      <td>art</td>\n",
       "      <td>bar</td>\n",
       "      <td>cat</td>\n",
       "    </tr>\n",
       "    <tr>\n",
       "      <th>3</th>\n",
       "      <td>ant</td>\n",
       "      <td>bin</td>\n",
       "      <td>car</td>\n",
       "    </tr>\n",
       "  </tbody>\n",
       "</table>\n",
       "</div>"
      ],
      "text/plain": [
       "     A    B    C\n",
       "1  axe  bat  cap\n",
       "2  art  bar  cat\n",
       "3  ant  bin  car"
      ]
     },
     "execution_count": 95,
     "metadata": {},
     "output_type": "execute_result"
    }
   ],
   "source": [
    "#DataFrame Concatenation\n",
    "df1 = pd.DataFrame({'A' : ['axe', 'art', 'ant'], 'B' : ['bat', 'bar', 'bin'], 'C': ['cap', 'cat', 'car']},index = [1,2,3])\n",
    "df2 = pd.DataFrame({'D' : ['dam', 'den', 'dot'], 'E': [ 'ear', 'eat', 'egg'], 'F':['fan', 'fog', 'fat']}, index =[ 2, 3, 6])\n",
    "print(\"Data frame 1 : \\n\", df1,'\\n Data Frame 2: \\n', df2)\n",
    "print(\"Concatenating Data Frames: \\n\",pd.concat([df1,df2], axis=0)) # axis =0 is stacking one below the other\n",
    "#print(\"Concatenating Data Frames along axis 1: \\n\",pd.concat([df1,df2], axis = 1))\n",
    "#will consider common indices\n",
    "df1\n",
    "#df2"
   ]
  },
  {
   "cell_type": "code",
   "execution_count": 37,
   "metadata": {},
   "outputs": [
    {
     "name": "stdout",
     "output_type": "stream",
     "text": [
      "Data frame 1 : \n",
      "      A    B    C\n",
      "1  axe  bat  cap\n",
      "2  art  bar  cat\n",
      "3  ant  bin  car \n",
      " Data Frame 2: \n",
      "      D    E    F\n",
      "2  dam  ear  fan\n",
      "3  den  eat  fog\n",
      "6  dot  egg  fat\n",
      "Concatenating Data Frames along axis 1: \n",
      "      A    B    C    D    E    F\n",
      "1  axe  bat  cap  NaN  NaN  NaN\n",
      "2  art  bar  cat  dam  ear  fan\n",
      "3  ant  bin  car  den  eat  fog\n",
      "6  NaN  NaN  NaN  dot  egg  fat\n"
     ]
    },
    {
     "data": {
      "text/html": [
       "<div>\n",
       "<style scoped>\n",
       "    .dataframe tbody tr th:only-of-type {\n",
       "        vertical-align: middle;\n",
       "    }\n",
       "\n",
       "    .dataframe tbody tr th {\n",
       "        vertical-align: top;\n",
       "    }\n",
       "\n",
       "    .dataframe thead th {\n",
       "        text-align: right;\n",
       "    }\n",
       "</style>\n",
       "<table border=\"1\" class=\"dataframe\">\n",
       "  <thead>\n",
       "    <tr style=\"text-align: right;\">\n",
       "      <th></th>\n",
       "      <th>A</th>\n",
       "      <th>B</th>\n",
       "      <th>C</th>\n",
       "    </tr>\n",
       "  </thead>\n",
       "  <tbody>\n",
       "    <tr>\n",
       "      <th>1</th>\n",
       "      <td>axe</td>\n",
       "      <td>bat</td>\n",
       "      <td>cap</td>\n",
       "    </tr>\n",
       "    <tr>\n",
       "      <th>2</th>\n",
       "      <td>art</td>\n",
       "      <td>bar</td>\n",
       "      <td>cat</td>\n",
       "    </tr>\n",
       "    <tr>\n",
       "      <th>3</th>\n",
       "      <td>ant</td>\n",
       "      <td>bin</td>\n",
       "      <td>car</td>\n",
       "    </tr>\n",
       "  </tbody>\n",
       "</table>\n",
       "</div>"
      ],
      "text/plain": [
       "     A    B    C\n",
       "1  axe  bat  cap\n",
       "2  art  bar  cat\n",
       "3  ant  bin  car"
      ]
     },
     "execution_count": 37,
     "metadata": {},
     "output_type": "execute_result"
    }
   ],
   "source": [
    "#DataFrame Concatenation\n",
    "df1 = pd.DataFrame({'A' : ['axe', 'art', 'ant'], 'B' : ['bat', 'bar', 'bin'], 'C': ['cap', 'cat', 'car']},index = [1,2,3])\n",
    "df2 = pd.DataFrame({'D' : ['dam', 'den', 'dot'], 'E': [ 'ear', 'eat', 'egg'], 'F':['fan', 'fog', 'fat']}, index =[ 2, 3, 6])\n",
    "print(\"Data frame 1 : \\n\", df1,'\\n Data Frame 2: \\n', df2)\n",
    "#print(\"Concatenating Data Frames: \\n\",pd.concat([df1,df2], axis=0)) # axis =0 is stacking one below the other\n",
    "print(\"Concatenating Data Frames along axis 1: \\n\",pd.concat([df1,df2], axis = 1))\n",
    "#will consider common indices\n",
    "df1\n",
    "#df2"
   ]
  },
  {
   "cell_type": "code",
   "execution_count": 38,
   "metadata": {},
   "outputs": [
    {
     "name": "stdout",
     "output_type": "stream",
     "text": [
      "Data frame 1 : \n",
      "      A    B    C\n",
      "1  axe  bat  cap\n",
      "2  art  bar  cat\n",
      "3  ant  bin  car \n",
      " Data Frame 2: \n",
      "      D    E    F\n",
      "2  dam  ear  fan\n",
      "3  den  eat  fog\n",
      "6  dot  egg  fat\n",
      "Concatenating Data Frames along axis 1: \n",
      "      A    B    C    D    E    F\n",
      "1  axe  bat  cap  NaN  NaN  NaN\n",
      "2  art  bar  cat  dam  ear  fan\n",
      "3  ant  bin  car  den  eat  fog\n",
      "6  NaN  NaN  NaN  dot  egg  fat\n"
     ]
    },
    {
     "data": {
      "text/html": [
       "<div>\n",
       "<style scoped>\n",
       "    .dataframe tbody tr th:only-of-type {\n",
       "        vertical-align: middle;\n",
       "    }\n",
       "\n",
       "    .dataframe tbody tr th {\n",
       "        vertical-align: top;\n",
       "    }\n",
       "\n",
       "    .dataframe thead th {\n",
       "        text-align: right;\n",
       "    }\n",
       "</style>\n",
       "<table border=\"1\" class=\"dataframe\">\n",
       "  <thead>\n",
       "    <tr style=\"text-align: right;\">\n",
       "      <th></th>\n",
       "      <th>D</th>\n",
       "      <th>E</th>\n",
       "      <th>F</th>\n",
       "    </tr>\n",
       "  </thead>\n",
       "  <tbody>\n",
       "    <tr>\n",
       "      <th>2</th>\n",
       "      <td>dam</td>\n",
       "      <td>ear</td>\n",
       "      <td>fan</td>\n",
       "    </tr>\n",
       "    <tr>\n",
       "      <th>3</th>\n",
       "      <td>den</td>\n",
       "      <td>eat</td>\n",
       "      <td>fog</td>\n",
       "    </tr>\n",
       "    <tr>\n",
       "      <th>6</th>\n",
       "      <td>dot</td>\n",
       "      <td>egg</td>\n",
       "      <td>fat</td>\n",
       "    </tr>\n",
       "  </tbody>\n",
       "</table>\n",
       "</div>"
      ],
      "text/plain": [
       "     D    E    F\n",
       "2  dam  ear  fan\n",
       "3  den  eat  fog\n",
       "6  dot  egg  fat"
      ]
     },
     "execution_count": 38,
     "metadata": {},
     "output_type": "execute_result"
    }
   ],
   "source": [
    "#DataFrame Concatenation\n",
    "df1 = pd.DataFrame({'A' : ['axe', 'art', 'ant'], 'B' : ['bat', 'bar', 'bin'], 'C': ['cap', 'cat', 'car']},index = [1,2,3])\n",
    "df2 = pd.DataFrame({'D' : ['dam', 'den', 'dot'], 'E': [ 'ear', 'eat', 'egg'], 'F':['fan', 'fog', 'fat']}, index =[ 2, 3, 6])\n",
    "print(\"Data frame 1 : \\n\", df1,'\\n Data Frame 2: \\n', df2)\n",
    "#print(\"Concatenating Data Frames: \\n\",pd.concat([df1,df2], axis=0)) # axis =0 is stacking one below the other\n",
    "print(\"Concatenating Data Frames along axis 1: \\n\",pd.concat([df1,df2], axis = 1))\n",
    "#will consider common indices\n",
    "#df1\n",
    "df2"
   ]
  },
  {
   "cell_type": "code",
   "execution_count": 96,
   "metadata": {},
   "outputs": [
    {
     "name": "stdout",
     "output_type": "stream",
     "text": [
      "Data frame 1 : \n",
      "      A    B    C\n",
      "1  axe  bat  cap\n",
      "2  art  bar  cat\n",
      "3  ant  bin  car \n",
      " Data Frame 2: \n",
      "      D    E    F\n",
      "2  dam  ear  fan\n",
      "3  den  eat  fog\n",
      "6  dot  egg  fat\n",
      "Concatenating Data Frames: \n",
      "      A    B    C    D    E    F\n",
      "1  axe  bat  cap  NaN  NaN  NaN\n",
      "2  art  bar  cat  NaN  NaN  NaN\n",
      "3  ant  bin  car  NaN  NaN  NaN\n",
      "2  NaN  NaN  NaN  dam  ear  fan\n",
      "3  NaN  NaN  NaN  den  eat  fog\n",
      "6  NaN  NaN  NaN  dot  egg  fat\n"
     ]
    },
    {
     "data": {
      "text/html": [
       "<div>\n",
       "<style scoped>\n",
       "    .dataframe tbody tr th:only-of-type {\n",
       "        vertical-align: middle;\n",
       "    }\n",
       "\n",
       "    .dataframe tbody tr th {\n",
       "        vertical-align: top;\n",
       "    }\n",
       "\n",
       "    .dataframe thead th {\n",
       "        text-align: right;\n",
       "    }\n",
       "</style>\n",
       "<table border=\"1\" class=\"dataframe\">\n",
       "  <thead>\n",
       "    <tr style=\"text-align: right;\">\n",
       "      <th></th>\n",
       "      <th>D</th>\n",
       "      <th>E</th>\n",
       "      <th>F</th>\n",
       "    </tr>\n",
       "  </thead>\n",
       "  <tbody>\n",
       "    <tr>\n",
       "      <th>2</th>\n",
       "      <td>dam</td>\n",
       "      <td>ear</td>\n",
       "      <td>fan</td>\n",
       "    </tr>\n",
       "    <tr>\n",
       "      <th>3</th>\n",
       "      <td>den</td>\n",
       "      <td>eat</td>\n",
       "      <td>fog</td>\n",
       "    </tr>\n",
       "    <tr>\n",
       "      <th>6</th>\n",
       "      <td>dot</td>\n",
       "      <td>egg</td>\n",
       "      <td>fat</td>\n",
       "    </tr>\n",
       "  </tbody>\n",
       "</table>\n",
       "</div>"
      ],
      "text/plain": [
       "     D    E    F\n",
       "2  dam  ear  fan\n",
       "3  den  eat  fog\n",
       "6  dot  egg  fat"
      ]
     },
     "execution_count": 96,
     "metadata": {},
     "output_type": "execute_result"
    }
   ],
   "source": [
    "#DataFrame Concatenation\n",
    "df1 = pd.DataFrame({'A' : ['axe', 'art', 'ant'], 'B' : ['bat', 'bar', 'bin'], 'C': ['cap', 'cat', 'car']},index = [1,2,3])\n",
    "df2 = pd.DataFrame({'D' : ['dam', 'den', 'dot'], 'E': [ 'ear', 'eat', 'egg'], 'F':['fan', 'fog', 'fat']}, index =[ 2, 3, 6])\n",
    "print(\"Data frame 1 : \\n\", df1,'\\n Data Frame 2: \\n', df2)\n",
    "print(\"Concatenating Data Frames: \\n\",pd.concat([df1,df2], axis=0)) # axis =0 is stacking one below the other\n",
    "#print(\"Concatenating Data Frames along axis 1: \\n\",pd.concat([df1,df2], axis = 1))\n",
    "#will consider common indices\n",
    "#df1\n",
    "df2"
   ]
  },
  {
   "cell_type": "code",
   "execution_count": 97,
   "metadata": {},
   "outputs": [
    {
     "name": "stdout",
     "output_type": "stream",
     "text": [
      "Data frame 1 : \n",
      "      A    B    C\n",
      "1  axe  bat  cap\n",
      "2  art  bar  cat\n",
      "3  ant  bin  car \n",
      " Data Frame 2: \n",
      "      D    E    F\n",
      "2  dam  ear  fan\n",
      "3  den  eat  fog\n",
      "6  dot  egg  fat\n",
      "Concatenating Data Frames: \n",
      "      A    B    C    D    E    F\n",
      "1  axe  bat  cap  NaN  NaN  NaN\n",
      "2  art  bar  cat  dam  ear  fan\n",
      "3  ant  bin  car  den  eat  fog\n",
      "6  NaN  NaN  NaN  dot  egg  fat\n"
     ]
    }
   ],
   "source": [
    "#DataFrame Concatenation\n",
    "df1 = pd.DataFrame({'A' : ['axe', 'art', 'ant'], 'B' : ['bat', 'bar', 'bin'], 'C': ['cap', 'cat', 'car']},index = [1,2,3])\n",
    "df2 = pd.DataFrame({'D' : ['dam', 'den', 'dot'], 'E': [ 'ear', 'eat', 'egg'], 'F':['fan', 'fog', 'fat']}, index =[ 2, 3, 6])\n",
    "print(\"Data frame 1 : \\n\", df1,'\\n Data Frame 2: \\n', df2)\n",
    "print(\"Concatenating Data Frames: \\n\",pd.concat([df1,df2], axis=1)) # axis =1 is stacking one below the othe,common rows are takenr\n",
    "#print(\"Concatenating Data Frames along axis 1: \\n\",pd.concat([df1,df2], axis = 1))\n",
    "#will consider common indices\n",
    "#df1\n",
    "#df2"
   ]
  },
  {
   "cell_type": "code",
   "execution_count": 99,
   "metadata": {},
   "outputs": [
    {
     "name": "stdout",
     "output_type": "stream",
     "text": [
      "Concatenation of dataframes while ignoring the index: \n",
      "      A    B    C    D    E    F\n",
      "0  axe  bat  cap  NaN  NaN  NaN\n",
      "1  art  bar  cat  NaN  NaN  NaN\n",
      "2  ant  bin  car  NaN  NaN  NaN\n",
      "3  NaN  NaN  NaN  dam  ear  fan\n",
      "4  NaN  NaN  NaN  den  eat  fog\n",
      "5  NaN  NaN  NaN  dot  egg  fat\n"
     ]
    }
   ],
   "source": [
    "df_concat = pd.concat([df1, df2])\n",
    "df_concat = pd.concat([df1, df2], ignore_index = True)\n",
    "print(\"Concatenation of dataframes while ignoring the index: \\n\", df_concat)"
   ]
  },
  {
   "cell_type": "code",
   "execution_count": 100,
   "metadata": {},
   "outputs": [
    {
     "name": "stdout",
     "output_type": "stream",
     "text": [
      "Data frame 1 : \n",
      "      A    B    C\n",
      "1  axe  bat  cap\n",
      "2  art  bar  cat\n",
      "3  ant  bin  car \n",
      " Data Frame 2: \n",
      "      D    E    F\n",
      "2  dam  ear  fan\n",
      "3  den  eat  fog\n",
      "6  dot  egg  fat\n",
      "Concatenating Data Frames: \n",
      "      A    B    C    D    E    F\n",
      "1  axe  bat  cap  NaN  NaN  NaN\n",
      "2  art  bar  cat  NaN  NaN  NaN\n",
      "3  ant  bin  car  NaN  NaN  NaN\n",
      "2  NaN  NaN  NaN  dam  ear  fan\n",
      "3  NaN  NaN  NaN  den  eat  fog\n",
      "6  NaN  NaN  NaN  dot  egg  fat\n"
     ]
    }
   ],
   "source": [
    "#DataFrame Concatenation\n",
    "df1 = pd.DataFrame({'A' : ['axe', 'art', 'ant'], 'B' : ['bat', 'bar', 'bin'], 'C': ['cap', 'cat', 'car']},index = [1,2,3])\n",
    "df2 = pd.DataFrame({'D' : ['dam', 'den', 'dot'], 'E': [ 'ear', 'eat', 'egg'], 'F':['fan', 'fog', 'fat']}, index =[ 2, 3, 6])\n",
    "print(\"Data frame 1 : \\n\", df1,'\\n Data Frame 2: \\n', df2)\n",
    "print(\"Concatenating Data Frames: \\n\",pd.concat([df1,df2], axis=0)) # axis =0 is stacking one below the other\n",
    "#print(\"Concatenating Data Frames along axis 1: \\n\",pd.concat([df1,df2], axis = 1))\n",
    "#will consider common indices"
   ]
  },
  {
   "cell_type": "code",
   "execution_count": 102,
   "metadata": {},
   "outputs": [
    {
     "name": "stdout",
     "output_type": "stream",
     "text": [
      "     A    B    C    D    E    F\n",
      "1  axe  bat  cap  NaN  NaN  NaN\n",
      "2  art  bar  cat  NaN  NaN  NaN\n",
      "3  ant  bin  car  NaN  NaN  NaN\n",
      "2  NaN  NaN  NaN  dam  ear  fan\n",
      "3  NaN  NaN  NaN  den  eat  fog\n",
      "6  NaN  NaN  NaN  dot  egg  fat\n",
      "Concatenation of dataframes while ignoring the index: \n",
      "      A    B    C    D    E    F\n",
      "0  axe  bat  cap  NaN  NaN  NaN\n",
      "1  art  bar  cat  NaN  NaN  NaN\n",
      "2  ant  bin  car  NaN  NaN  NaN\n",
      "3  NaN  NaN  NaN  dam  ear  fan\n",
      "4  NaN  NaN  NaN  den  eat  fog\n",
      "5  NaN  NaN  NaN  dot  egg  fat\n"
     ]
    }
   ],
   "source": [
    "print(pd.concat([df1, df2]))\n",
    "df_concat = pd.concat([df1, df2], ignore_index = True)\n",
    "print(\"Concatenation of dataframes while ignoring the index: \\n\", df_concat)"
   ]
  },
  {
   "cell_type": "code",
   "execution_count": 23,
   "metadata": {},
   "outputs": [
    {
     "data": {
      "text/html": [
       "<div>\n",
       "<style scoped>\n",
       "    .dataframe tbody tr th:only-of-type {\n",
       "        vertical-align: middle;\n",
       "    }\n",
       "\n",
       "    .dataframe tbody tr th {\n",
       "        vertical-align: top;\n",
       "    }\n",
       "\n",
       "    .dataframe thead th {\n",
       "        text-align: right;\n",
       "    }\n",
       "</style>\n",
       "<table border=\"1\" class=\"dataframe\">\n",
       "  <thead>\n",
       "    <tr style=\"text-align: right;\">\n",
       "      <th></th>\n",
       "      <th>B</th>\n",
       "      <th>C</th>\n",
       "      <th>G</th>\n",
       "    </tr>\n",
       "  </thead>\n",
       "  <tbody>\n",
       "    <tr>\n",
       "      <th>1</th>\n",
       "      <td>ball</td>\n",
       "      <td>cat</td>\n",
       "      <td>grain</td>\n",
       "    </tr>\n",
       "    <tr>\n",
       "      <th>4</th>\n",
       "      <td>box</td>\n",
       "      <td>calendar</td>\n",
       "      <td>grape</td>\n",
       "    </tr>\n",
       "    <tr>\n",
       "      <th>2</th>\n",
       "      <td>band</td>\n",
       "      <td>cone</td>\n",
       "      <td>goat</td>\n",
       "    </tr>\n",
       "  </tbody>\n",
       "</table>\n",
       "</div>"
      ],
      "text/plain": [
       "      B         C      G\n",
       "1  ball       cat  grain\n",
       "4   box  calendar  grape\n",
       "2  band      cone   goat"
      ]
     },
     "execution_count": 23,
     "metadata": {},
     "output_type": "execute_result"
    }
   ],
   "source": [
    "df3= pd.DataFrame({'B' : ['ball','box', 'band'],  'C' : ['cat', 'calendar', 'cone'], 'G' : ['grain', 'grape', 'goat']},\n",
    "                 index=[1,4,2])\n",
    "df3"
   ]
  },
  {
   "cell_type": "code",
   "execution_count": 112,
   "metadata": {},
   "outputs": [
    {
     "name": "stdout",
     "output_type": "stream",
     "text": [
      "     A    B    C\n",
      "1  axe  bat  cap\n",
      "2  art  bar  cat\n",
      "3  ant  bin  car\n",
      "      B         C      G\n",
      "1  ball       cat  grain\n",
      "4   box  calendar  grape\n",
      "2  band      cone   goat\n",
      "\n",
      " Inner join\n",
      "       B         C\n",
      "1   bat       cap\n",
      "2   bar       cat\n",
      "3   bin       car\n",
      "1  ball       cat\n",
      "4   box  calendar\n",
      "2  band      cone\n"
     ]
    }
   ],
   "source": [
    "print(df1)\n",
    "print(df3)\n",
    "print(\"\\n Inner join\\n\", pd.concat([df1,df3],join = 'inner')) # intersection of columns\n",
    "#print\"\\n Outer Join\\n\", pd.concat([df1,df3]),join = 'outer')) # union of columns\n",
    "# print(\"\\n Default Join\\n\", pd.concat([df1,df3]))"
   ]
  },
  {
   "cell_type": "code",
   "execution_count": 114,
   "metadata": {},
   "outputs": [
    {
     "name": "stdout",
     "output_type": "stream",
     "text": [
      "     A    B    C\n",
      "1  axe  bat  cap\n",
      "2  art  bar  cat\n",
      "3  ant  bin  car\n",
      "      B         C      G\n",
      "1  ball       cat  grain\n",
      "4   box  calendar  grape\n",
      "2  band      cone   goat\n",
      "\n",
      " Outer Join\n",
      "      A     B         C      G\n",
      "1  axe   bat       cap    NaN\n",
      "2  art   bar       cat    NaN\n",
      "3  ant   bin       car    NaN\n",
      "1  NaN  ball       cat  grain\n",
      "4  NaN   box  calendar  grape\n",
      "2  NaN  band      cone   goat\n"
     ]
    }
   ],
   "source": [
    "print(df1)\n",
    "print(df3)\n",
    "#print(\"\\n Inner join\\n\", pd.concat([df1,df3],join = 'inner')) # intersection of columns\n",
    "print(\"\\n Outer Join\\n\", pd.concat([df1,df3],join = 'outer')) # union of columns\n",
    "# print(\"\\n Default Join\\n\", pd.concat([df1,df3]))"
   ]
  },
  {
   "cell_type": "code",
   "execution_count": 42,
   "metadata": {},
   "outputs": [
    {
     "name": "stdout",
     "output_type": "stream",
     "text": [
      "     A    B    C\n",
      "1  axe  bat  cap\n",
      "2  art  bar  cat\n",
      "3  ant  bin  car\n",
      "      B         C      G\n",
      "1  ball       cat  grain\n",
      "4   box  calendar  grape\n",
      "2  band      cone   goat\n",
      "\n",
      " Inner join\n",
      "       B         C\n",
      "1   bat       cap\n",
      "2   bar       cat\n",
      "3   bin       car\n",
      "1  ball       cat\n",
      "4   box  calendar\n",
      "2  band      cone\n",
      "\n",
      " Outer Join\n",
      "      A     B         C      G\n",
      "1  axe   bat       cap    NaN\n",
      "2  art   bar       cat    NaN\n",
      "3  ant   bin       car    NaN\n",
      "1  NaN  ball       cat  grain\n",
      "4  NaN   box  calendar  grape\n",
      "2  NaN  band      cone   goat\n",
      "\n",
      " Default Join\n",
      "      A     B         C      G\n",
      "1  axe   bat       cap    NaN\n",
      "2  art   bar       cat    NaN\n",
      "3  ant   bin       car    NaN\n",
      "1  NaN  ball       cat  grain\n",
      "4  NaN   box  calendar  grape\n",
      "2  NaN  band      cone   goat\n"
     ]
    }
   ],
   "source": [
    "print(df1)\n",
    "print(df3)\n",
    "print(\"\\n Inner join\\n\", pd.concat([df1,df3],join = 'inner')) # intersection of columns\n",
    "print(\"\\n Outer Join\\n\", pd.concat([df1,df3],join = 'outer')) # union of columns\n",
    "print(\"\\n Default Join\\n\", pd.concat([df1,df3]))"
   ]
  },
  {
   "cell_type": "code",
   "execution_count": 44,
   "metadata": {},
   "outputs": [
    {
     "name": "stdout",
     "output_type": "stream",
     "text": [
      "     A    B    C\n",
      "1  axe  bat  cap\n",
      "2  art  bar  cat\n",
      "3  ant  bin  car\n",
      "      B         C      G\n",
      "1  ball       cat  grain\n",
      "4   box  calendar  grape\n",
      "2  band      cone   goat\n",
      "\n",
      " Outer Join\n",
      "      A     B         C      G\n",
      "1  axe   bat       cap    NaN\n",
      "2  art   bar       cat    NaN\n",
      "3  ant   bin       car    NaN\n",
      "1  NaN  ball       cat  grain\n",
      "4  NaN   box  calendar  grape\n",
      "2  NaN  band      cone   goat\n",
      "\n",
      " Default Join\n",
      "      A     B         C      G\n",
      "1  axe   bat       cap    NaN\n",
      "2  art   bar       cat    NaN\n",
      "3  ant   bin       car    NaN\n",
      "1  NaN  ball       cat  grain\n",
      "4  NaN   box  calendar  grape\n",
      "2  NaN  band      cone   goat\n"
     ]
    }
   ],
   "source": [
    "print(df1)\n",
    "df3= pd.DataFrame({'B' : ['ball','box', 'band'],  'C' : ['cat', 'calendar', 'cone'], 'G' : ['grain', 'grape', 'goat']},\n",
    "                 index=[1,4,2])\n",
    "print(df3)\n",
    "#print(\"\\n Inner join\\n\", pd.concat([df1,df3],axis=1,join = 'inner')) # intersection of columns\n",
    "print(\"\\n Outer Join\\n\", pd.concat([df1,df3],join = 'outer')) # union of columns\n",
    "print(\"\\n Default Join\\n\", pd.concat([df1,df3]))"
   ]
  },
  {
   "cell_type": "code",
   "execution_count": 43,
   "metadata": {},
   "outputs": [
    {
     "name": "stdout",
     "output_type": "stream",
     "text": [
      "     A    B    C\n",
      "1  axe  bat  cap\n",
      "2  art  bar  cat\n",
      "3  ant  bin  car\n",
      "      B         C      G\n",
      "1  ball       cat  grain\n",
      "4   box  calendar  grape\n",
      "2  band      cone   goat\n",
      "\n",
      " Inner join\n",
      "      A    B    C     B     C      G\n",
      "1  axe  bat  cap  ball   cat  grain\n",
      "2  art  bar  cat  band  cone   goat\n",
      "\n",
      " Default Join\n",
      "      A     B         C      G\n",
      "1  axe   bat       cap    NaN\n",
      "2  art   bar       cat    NaN\n",
      "3  ant   bin       car    NaN\n",
      "1  NaN  ball       cat  grain\n",
      "4  NaN   box  calendar  grape\n",
      "2  NaN  band      cone   goat\n"
     ]
    }
   ],
   "source": [
    "print(df1)\n",
    "df3= pd.DataFrame({'B' : ['ball','box', 'band'],  'C' : ['cat', 'calendar', 'cone'], 'G' : ['grain', 'grape', 'goat']},\n",
    "                 index=[1,4,2])\n",
    "print(df3)\n",
    "print(\"\\n Inner join\\n\", pd.concat([df1,df3],axis=1,join = 'inner')) # intersection of columns\n",
    "#print(\"\\n Outer Join\\n\", pd.concat([df1,df3],join = 'outer')) # union of columns\n",
    "print(\"\\n Default Join\\n\", pd.concat([df1,df3]))"
   ]
  },
  {
   "cell_type": "code",
   "execution_count": 45,
   "metadata": {},
   "outputs": [
    {
     "name": "stdout",
     "output_type": "stream",
     "text": [
      "     A    B    C\n",
      "1  axe  bat  cap\n",
      "2  art  bar  cat\n",
      "3  ant  bin  car\n",
      "      B         C      G\n",
      "1  ball       cat  grain\n",
      "4   box  calendar  grape\n",
      "2  band      cone   goat\n",
      "\n",
      " Inner join\n",
      "       B         C\n",
      "1   bat       cap\n",
      "2   bar       cat\n",
      "3   bin       car\n",
      "1  ball       cat\n",
      "4   box  calendar\n",
      "2  band      cone\n",
      "\n",
      " Outer Join\n",
      "      A     B         C      G\n",
      "1  axe   bat       cap    NaN\n",
      "2  art   bar       cat    NaN\n",
      "3  ant   bin       car    NaN\n",
      "1  NaN  ball       cat  grain\n",
      "4  NaN   box  calendar  grape\n",
      "2  NaN  band      cone   goat\n",
      "\n",
      " Default Join\n",
      "      A     B         C      G\n",
      "1  axe   bat       cap    NaN\n",
      "2  art   bar       cat    NaN\n",
      "3  ant   bin       car    NaN\n",
      "1  NaN  ball       cat  grain\n",
      "4  NaN   box  calendar  grape\n",
      "2  NaN  band      cone   goat\n"
     ]
    }
   ],
   "source": [
    "print(df1)\n",
    "df3= pd.DataFrame({'B' : ['ball','box', 'band'],  'C' : ['cat', 'calendar', 'cone'], 'G' : ['grain', 'grape', 'goat']},\n",
    "                 index=[1,4,2])\n",
    "print(df3)\n",
    "print(\"\\n Inner join\\n\", pd.concat([df1,df3],axis=0,join = 'inner')) # intersection of columns\n",
    "print(\"\\n Outer Join\\n\", pd.concat([df1,df3],axis=0,join = 'outer')) # union of columns\n",
    "print(\"\\n Default Join\\n\", pd.concat([df1,df3]))"
   ]
  },
  {
   "cell_type": "code",
   "execution_count": 116,
   "metadata": {},
   "outputs": [
    {
     "name": "stdout",
     "output_type": "stream",
     "text": [
      "     A    B    C\n",
      "1  axe  bat  cap\n",
      "2  art  bar  cat\n",
      "3  ant  bin  car\n",
      "     D    E    F\n",
      "2  dam  ear  fan\n",
      "3  den  eat  fog\n",
      "6  dot  egg  fat\n",
      "     A    B    C    D    E    F\n",
      "1  axe  bat  cap  NaN  NaN  NaN\n",
      "2  art  bar  cat  NaN  NaN  NaN\n",
      "3  ant  bin  car  NaN  NaN  NaN\n",
      "2  NaN  NaN  NaN  dam  ear  fan\n",
      "3  NaN  NaN  NaN  den  eat  fog\n",
      "6  NaN  NaN  NaN  dot  egg  fat\n"
     ]
    }
   ],
   "source": [
    "# Append (similar to concat but a dataframe method)\n",
    "print(df1)\n",
    "print(df2)\n",
    "print(df1.append(df2)) # append is same as concat stocks dataframes one below another"
   ]
  },
  {
   "cell_type": "code",
   "execution_count": 51,
   "metadata": {},
   "outputs": [
    {
     "name": "stdout",
     "output_type": "stream",
     "text": [
      "Student dataframe: \n",
      "    St_id Branch\n",
      "0    101     IT\n",
      "1    102     CS\n",
      "2    103    ECE\n",
      "3    104     CS\n",
      "4    105   Mech \n",
      "Faculty Dataframe :\n",
      "    F_id F_name Branch\n",
      "0   110      A    ECE\n",
      "1   120      B   Mech\n",
      "2   130      C    EEE\n",
      "3   140      D     IT\n",
      "4   150      E     CS\n",
      "Merged dataframe : \n",
      "     St_id Branch  F_id F_name\n",
      "0    101     IT   140      D\n",
      "1    102     CS   150      E\n",
      "2    104     CS   150      E\n",
      "3    103    ECE   110      A\n",
      "4    105   Mech   120      B\n"
     ]
    }
   ],
   "source": [
    "# Merge Operations\n",
    "df_stud = pd.DataFrame({'St_id': [101,102,103,104,105],'Branch': ['IT','CS','ECE','CS','Mech']})\n",
    "df_fac = pd.DataFrame({'F_id' : [110,120,130,140,150 ],'F_name' : ['A', 'B', 'C', 'D', 'E'],'Branch': ['ECE','Mech', 'EEE', \"IT\", 'CS'] })\n",
    "print(\"Student dataframe: \\n\", df_stud,'\\nFaculty Dataframe :\\n', df_fac)\n",
    "df_merge = pd.merge(df_stud, df_fac)\n",
    "print(\"Merged dataframe : \\n \", df_merge)   #Merge on a common column\n",
    "#works only if both dataframes have the specified column Default is inner\n",
    "#print(\"Merged dataframe : \\n \", pd.merge(df_stud, df_fac, on = 'Branch'))"
   ]
  },
  {
   "cell_type": "code",
   "execution_count": 52,
   "metadata": {},
   "outputs": [
    {
     "name": "stdout",
     "output_type": "stream",
     "text": [
      "DataFrame1 : \n",
      "   key  data1\n",
      "0   b      0\n",
      "1   b      1\n",
      "2   a      2\n",
      "3   c      3\n",
      "4   a      4\n",
      "5   a      5 \n",
      "DataFrame2 :\n",
      "   key  data2\n",
      "0   a      0\n",
      "1   b      1\n",
      "2   d      2\n"
     ]
    }
   ],
   "source": [
    "df1 =pd. DataFrame({'key' :['b', 'b', 'a', 'c', 'a', 'a'], 'data1': range(6)}) #has multiple rows labelled a and b\n",
    "df2 = pd. DataFrame({'key' :['a', 'b', 'd'], 'data2': range(3)})\n",
    "print(\"DataFrame1 : \\n\", df1, '\\nDataFrame2 :\\n', df2)\n",
    "\n",
    "#Example of many to one merge situation\n",
    "#No of rows will be 5X2 \n",
    "#print(\"Inner Join:\\n\", pd.merge(df1, df2, on ='key', how = 'inner', sort=True))     # intersection of keys \n",
    "#print(\"Outer Join:\\n\", pd.merge(df1, df2, on ='key', how = 'outer', sort=True))     # union of keys\n",
    "#print(\"Left Join:\\n\", pd.merge(df1, df2, on ='key', how = 'left', sort=True))     #  keys from left dataframe\n",
    "#print(\"Right Join:\\n\", pd.merge(df1, df2, on ='key', how = 'right', sort=True))     # keys from right dataframe\n",
    "#Here left and outer is same and Right and Inner is same"
   ]
  },
  {
   "cell_type": "code",
   "execution_count": 53,
   "metadata": {},
   "outputs": [
    {
     "name": "stdout",
     "output_type": "stream",
     "text": [
      "DataFrame1 : \n",
      "   key  data1\n",
      "0   b      0\n",
      "1   b      1\n",
      "2   a      2\n",
      "3   c      3\n",
      "4   a      4\n",
      "5   a      5\n",
      "6   b      6 \n",
      "DataFrame2 :\n",
      "   key  data2\n",
      "0   a      0\n",
      "1   b      1\n",
      "2   a      2\n",
      "3   b      3\n",
      "4   d      4\n",
      "Inner Join:\n",
      "    key  data1  data2\n",
      "0    a      2      0\n",
      "1    a      2      2\n",
      "2    a      4      0\n",
      "3    a      4      2\n",
      "4    a      5      0\n",
      "5    a      5      2\n",
      "6    b      0      1\n",
      "7    b      0      3\n",
      "8    b      1      1\n",
      "9    b      1      3\n",
      "10   b      6      1\n",
      "11   b      6      3\n"
     ]
    }
   ],
   "source": [
    "df1 =pd. DataFrame({'key' : ['b', 'b', 'a','c', 'a', 'a', 'b'], 'data1': range(7)})  #has multiple rows labelled a and b\n",
    "df2 = pd.DataFrame({'key' : ['a', 'b', 'a', 'b', 'd'], 'data2': range(5)})\n",
    "print(\"DataFrame1 : \\n\", df1, '\\nDataFrame2 :\\n', df2)\n",
    "\n",
    "#Example of many to one merge situation\n",
    "#No of rows in the dataframe = 7x4 for inner\n",
    "#No of rows will be 5X2 \n",
    "print(\"Inner Join:\\n\", pd.merge(df1, df2, on ='key', how = 'inner', sort=True))     # intersection of keys \n",
    "#print(\"Outer Join:\\n\", pd.merge(df1, df2, on ='key', how = 'outer', sort=True))     # union of keys\n",
    "#print(\"Left Join:\\n\", pd.merge(df1, df2, on ='key', how = 'left', sort=True))     #  keys from left dataframe\n",
    "#print(\"Right Join:\\n\", pd.merge(df1, df2, on ='key', how = 'right', sort=True))     # keys from right dataframe\n",
    "#Here left and outer is same and Right and Inner is same"
   ]
  },
  {
   "cell_type": "code",
   "execution_count": 54,
   "metadata": {},
   "outputs": [
    {
     "name": "stdout",
     "output_type": "stream",
     "text": [
      "DataFrame1 : \n",
      "   key  data1\n",
      "0   b      0\n",
      "1   b      1\n",
      "2   a      2\n",
      "3   c      3\n",
      "4   a      4\n",
      "5   a      5 \n",
      "DataFrame2 :\n",
      "   key  data2\n",
      "0   a      0\n",
      "1   b      1\n",
      "2   d      2\n",
      "Outer Join:\n",
      "   key  data1  data2\n",
      "0   a    2.0    0.0\n",
      "1   a    4.0    0.0\n",
      "2   a    5.0    0.0\n",
      "3   b    0.0    1.0\n",
      "4   b    1.0    1.0\n",
      "5   c    3.0    NaN\n",
      "6   d    NaN    2.0\n"
     ]
    }
   ],
   "source": [
    "df1 =pd. DataFrame({'key' :['b', 'b', 'a', 'c', 'a', 'a'], 'data1': range(6)}) #has multiple rows labelled a and b\n",
    "df2 = pd. DataFrame({'key' :['a', 'b', 'd'], 'data2': range(3)})\n",
    "print(\"DataFrame1 : \\n\", df1, '\\nDataFrame2 :\\n', df2)\n",
    "\n",
    "#Example of many to one merge situation\n",
    "#No of rows will be 5X2 \n",
    "#print(\"Inner Join:\\n\", pd.merge(df1, df2, on ='key', how = 'inner', sort=True))     # intersection of keys \n",
    "print(\"Outer Join:\\n\", pd.merge(df1, df2, on ='key', how = 'outer', sort=True))     # union of keys\n",
    "#print(\"Left Join:\\n\", pd.merge(df1, df2, on ='key', how = 'left', sort=True))     #  keys from left dataframe\n",
    "#print(\"Right Join:\\n\", pd.merge(df1, df2, on ='key', how = 'right', sort=True))     # keys from right dataframe\n",
    "#Here left and outer is same and Right and Inner is same"
   ]
  },
  {
   "cell_type": "code",
   "execution_count": 55,
   "metadata": {},
   "outputs": [
    {
     "name": "stdout",
     "output_type": "stream",
     "text": [
      "DataFrame1 : \n",
      "   key  data1\n",
      "0   b      0\n",
      "1   b      1\n",
      "2   a      2\n",
      "3   c      3\n",
      "4   a      4\n",
      "5   a      5 \n",
      "DataFrame2 :\n",
      "   key  data2\n",
      "0   a      0\n",
      "1   b      1\n",
      "2   d      2\n",
      "Left Join:\n",
      "   key  data1  data2\n",
      "0   a      2    0.0\n",
      "1   a      4    0.0\n",
      "2   a      5    0.0\n",
      "3   b      0    1.0\n",
      "4   b      1    1.0\n",
      "5   c      3    NaN\n"
     ]
    }
   ],
   "source": [
    "f1 =pd. DataFrame({'key' :['b', 'b', 'a', 'c', 'a', 'a'], 'data1': range(6)}) #has multiple rows labelled a and b\n",
    "df2 = pd. DataFrame({'key' :['a', 'b', 'd'], 'data2': range(3)})\n",
    "print(\"DataFrame1 : \\n\", df1, '\\nDataFrame2 :\\n', df2)\n",
    "\n",
    "#Example of many to one merge situation\n",
    "#No of rows will be 5X2 \n",
    "#print(\"Inner Join:\\n\", pd.merge(df1, df2, on ='key', how = 'inner', sort=True))     # intersection of keys \n",
    "#print(\"Outer Join:\\n\", pd.merge(df1, df2, on ='key', how = 'outer', sort=True))     # union of keys\n",
    "print(\"Left Join:\\n\", pd.merge(df1, df2, on ='key', how = 'left', sort=True))     #  keys from left dataframe\n",
    "#print(\"Right Join:\\n\", pd.merge(df1, df2, on ='key', how = 'right', sort=True))     # keys from right dataframe\n",
    "#Here left and outer is same and Right and Inner is same"
   ]
  },
  {
   "cell_type": "code",
   "execution_count": 56,
   "metadata": {},
   "outputs": [
    {
     "name": "stdout",
     "output_type": "stream",
     "text": [
      "DataFrame1 : \n",
      "   key  data1\n",
      "0   b      0\n",
      "1   b      1\n",
      "2   a      2\n",
      "3   c      3\n",
      "4   a      4\n",
      "5   a      5 \n",
      "DataFrame2 :\n",
      "   key  data2\n",
      "0   a      0\n",
      "1   b      1\n",
      "2   d      2\n",
      "Right Join:\n",
      "   key  data1  data2\n",
      "0   a    2.0      0\n",
      "1   a    4.0      0\n",
      "2   a    5.0      0\n",
      "3   b    0.0      1\n",
      "4   b    1.0      1\n",
      "5   d    NaN      2\n"
     ]
    }
   ],
   "source": [
    "f1 =pd. DataFrame({'key' :['b', 'b', 'a', 'c', 'a', 'a'], 'data1': range(6)}) #has multiple rows labelled a and b\n",
    "df2 = pd. DataFrame({'key' :['a', 'b', 'd'], 'data2': range(3)})\n",
    "print(\"DataFrame1 : \\n\", df1, '\\nDataFrame2 :\\n', df2)\n",
    "\n",
    "#Example of many to one merge situation\n",
    "#No of rows will be 5X2 \n",
    "#print(\"Inner Join:\\n\", pd.merge(df1, df2, on ='key', how = 'inner', sort=True))     # intersection of keys \n",
    "#print(\"Outer Join:\\n\", pd.merge(df1, df2, on ='key', how = 'outer', sort=True))     # union of keys\n",
    "#print(\"Left Join:\\n\", pd.merge(df1, df2, on ='key', how = 'left', sort=True))     #  keys from left dataframe\n",
    "print(\"Right Join:\\n\", pd.merge(df1, df2, on ='key', how = 'right', sort=True))     # keys from right dataframe\n",
    "#Here left and outer is same and Right and Inner is same"
   ]
  },
  {
   "cell_type": "code",
   "execution_count": 57,
   "metadata": {},
   "outputs": [
    {
     "name": "stdout",
     "output_type": "stream",
     "text": [
      "4\n",
      "7\n",
      "0    2\n",
      "1    3\n",
      "2    7\n",
      "3    5\n",
      "dtype: int64\n"
     ]
    }
   ],
   "source": [
    "series = pd.Series([2,3,4,5])\n",
    "print(series[2])\n",
    "series[2]=7.8\n",
    "print(series[2])\n",
    "print(series)"
   ]
  },
  {
   "cell_type": "code",
   "execution_count": 59,
   "metadata": {},
   "outputs": [
    {
     "ename": "NameError",
     "evalue": "name 'string' is not defined",
     "output_type": "error",
     "traceback": [
      "\u001b[1;31m---------------------------------------------------------------------------\u001b[0m",
      "\u001b[1;31mNameError\u001b[0m                                 Traceback (most recent call last)",
      "\u001b[1;32m<ipython-input-59-7bb29b7c1c87>\u001b[0m in \u001b[0;36m<module>\u001b[1;34m\u001b[0m\n\u001b[1;32m----> 1\u001b[1;33m \u001b[0mdir\u001b[0m\u001b[1;33m(\u001b[0m \u001b[0mstring\u001b[0m\u001b[1;33m)\u001b[0m\u001b[1;33m\u001b[0m\u001b[1;33m\u001b[0m\u001b[0m\n\u001b[0m",
      "\u001b[1;31mNameError\u001b[0m: name 'string' is not defined"
     ]
    }
   ],
   "source": [
    "dir( String)"
   ]
  },
  {
   "cell_type": "code",
   "execution_count": 60,
   "metadata": {},
   "outputs": [
    {
     "ename": "NameError",
     "evalue": "name 'Series' is not defined",
     "output_type": "error",
     "traceback": [
      "\u001b[1;31m---------------------------------------------------------------------------\u001b[0m",
      "\u001b[1;31mNameError\u001b[0m                                 Traceback (most recent call last)",
      "\u001b[1;32m<ipython-input-60-cecb0f7492af>\u001b[0m in \u001b[0;36m<module>\u001b[1;34m\u001b[0m\n\u001b[1;32m----> 1\u001b[1;33m \u001b[0mdir\u001b[0m\u001b[1;33m(\u001b[0m\u001b[0mSeries\u001b[0m\u001b[1;33m)\u001b[0m\u001b[1;33m\u001b[0m\u001b[1;33m\u001b[0m\u001b[0m\n\u001b[0m",
      "\u001b[1;31mNameError\u001b[0m: name 'Series' is not defined"
     ]
    }
   ],
   "source": [
    "dir(Series)"
   ]
  },
  {
   "cell_type": "code",
   "execution_count": 5,
   "metadata": {},
   "outputs": [
    {
     "name": "stdout",
     "output_type": "stream",
     "text": [
      "   0  1  2\n",
      "0  1  4  2\n",
      "1  2  3  5\n",
      "2  7  4  6\n",
      "0    10\n",
      "1    11\n",
      "2    13\n",
      "dtype: int64\n",
      "0     7\n",
      "1    10\n",
      "2    17\n",
      "dtype: int64\n"
     ]
    }
   ],
   "source": [
    "### Difference beytween axis =0 and axis =1\n",
    "#Dataframe aggregation methods ignore nan values and find the sum\n",
    "data = pd.DataFrame([[1,  4,  2],    \n",
    "                   [2,   3, 5],     \n",
    "                   [7,  4,  6]])  \n",
    "print(data)\n",
    "print(data.sum())    #sum by default is column sum axis =0  columnwise sum\n",
    "print(data.sum(axis=1))   #rowwise sum"
   ]
  },
  {
   "cell_type": "code",
   "execution_count": null,
   "metadata": {},
   "outputs": [],
   "source": []
  },
  {
   "cell_type": "code",
   "execution_count": null,
   "metadata": {},
   "outputs": [],
   "source": []
  },
  {
   "cell_type": "code",
   "execution_count": null,
   "metadata": {},
   "outputs": [],
   "source": []
  }
 ],
 "metadata": {
  "kernelspec": {
   "display_name": "Python 3",
   "language": "python",
   "name": "python3"
  },
  "language_info": {
   "codemirror_mode": {
    "name": "ipython",
    "version": 3
   },
   "file_extension": ".py",
   "mimetype": "text/x-python",
   "name": "python",
   "nbconvert_exporter": "python",
   "pygments_lexer": "ipython3",
   "version": "3.7.6"
  }
 },
 "nbformat": 4,
 "nbformat_minor": 4
}
